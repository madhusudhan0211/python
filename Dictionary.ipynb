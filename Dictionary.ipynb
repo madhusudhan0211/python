{
  "nbformat": 4,
  "nbformat_minor": 0,
  "metadata": {
    "colab": {
      "name": "Dictionary.ipynb",
      "provenance": [],
      "collapsed_sections": [],
      "authorship_tag": "ABX9TyO7t1/E18tjRkeCxnnYFsKc",
      "include_colab_link": true
    },
    "kernelspec": {
      "name": "python3",
      "display_name": "Python 3"
    },
    "language_info": {
      "name": "python"
    }
  },
  "cells": [
    {
      "cell_type": "markdown",
      "metadata": {
        "id": "view-in-github",
        "colab_type": "text"
      },
      "source": [
        "<a href=\"https://colab.research.google.com/github/madhusudhan0211/python/blob/main/Dictionary.ipynb\" target=\"_parent\"><img src=\"https://colab.research.google.com/assets/colab-badge.svg\" alt=\"Open In Colab\"/></a>"
      ]
    },
    {
      "cell_type": "markdown",
      "source": [
        "# **Dictionary** \n",
        "Dictionaries are used to store data values in key:value pairs.\n",
        "\n",
        "A dictionary is a collection which is ordered*, changeable and do not allow duplicates. Dictionaries are written with curly brackets, and have keys and values:\n",
        "\n",
        "**Dictionary Items** Dictionary items are ordered, changeable, and does not allow duplicates.\n",
        "\n",
        "Dictionary items are presented in key:value pairs, and can be referred to by using the key name.\n",
        "\n",
        "**Properties**\n",
        "\n",
        "Can store different data types\n",
        "\n",
        "Order doesnt matter here\n",
        "\n",
        "Keys should be unique\n",
        "\n",
        "Mutable"
      ],
      "metadata": {
        "id": "v8ibRZerPqIq"
      }
    },
    {
      "cell_type": "code",
      "execution_count": 1,
      "metadata": {
        "id": "EDgJ4_VXPA6l"
      },
      "outputs": [],
      "source": [
        "thisdict = {\n",
        "  \"brand\": \"Ford\",\n",
        "  \"model\": \"Mustang\",\n",
        "  \"year\": 1964\n",
        "}"
      ]
    },
    {
      "cell_type": "code",
      "source": [
        "#Create and print a dictionary:\n",
        "\n",
        "thisdict = {\n",
        "  \"brand\": \"Ford\",\n",
        "  \"model\": \"Mustang\",\n",
        "  \"year\": 1964,\n",
        "}\n",
        "print(thisdict)"
      ],
      "metadata": {
        "colab": {
          "base_uri": "https://localhost:8080/"
        },
        "id": "nFzeV21XQRZw",
        "outputId": "bd905ef7-b3c1-4646-aa73-bcb99994b337"
      },
      "execution_count": 2,
      "outputs": [
        {
          "output_type": "stream",
          "name": "stdout",
          "text": [
            "{'brand': 'Ford', 'model': 'Mustang', 'year': 1964}\n"
          ]
        }
      ]
    },
    {
      "cell_type": "code",
      "source": [
        "#Print the \"brand\" value of the dictionary:\n",
        "\n",
        "thisdict = {\n",
        "  \"brand\": \"Ford\",\n",
        "  \"model\": \"Mustang\",\n",
        "  \"year\": 1964\n",
        "}\n",
        "print(thisdict[\"year\"])"
      ],
      "metadata": {
        "colab": {
          "base_uri": "https://localhost:8080/"
        },
        "id": "1GGNJyj7Qf0i",
        "outputId": "11b9d955-4a97-4822-8971-ac238f3ca520"
      },
      "execution_count": 4,
      "outputs": [
        {
          "output_type": "stream",
          "name": "stdout",
          "text": [
            "1964\n"
          ]
        }
      ]
    },
    {
      "cell_type": "code",
      "source": [
        "#update the year\n",
        "thisdict[\"year\"] = 2018\n",
        "print(thisdict)"
      ],
      "metadata": {
        "colab": {
          "base_uri": "https://localhost:8080/"
        },
        "id": "ur0HDeTIRBYT",
        "outputId": "00329c0e-6a36-4bf2-eea1-72b89e9a005b"
      },
      "execution_count": 6,
      "outputs": [
        {
          "output_type": "stream",
          "name": "stdout",
          "text": [
            "{'brand': 'Ford', 'model': 'Mustang', 'year': 2018}\n"
          ]
        }
      ]
    },
    {
      "cell_type": "code",
      "source": [
        "# keys() method to get the keys \n",
        "keys = list(thisdict.keys())\n",
        "print(keys)"
      ],
      "metadata": {
        "colab": {
          "base_uri": "https://localhost:8080/"
        },
        "id": "Lr-Iip8cRQ19",
        "outputId": "81afc07a-002d-47ee-8d1a-24d02da69cd0"
      },
      "execution_count": 7,
      "outputs": [
        {
          "output_type": "stream",
          "name": "stdout",
          "text": [
            "['brand', 'model', 'year']\n"
          ]
        }
      ]
    },
    {
      "cell_type": "code",
      "source": [
        "# values() method to get the values\n",
        "vals = list(thisdict.values())\n",
        "print(vals)"
      ],
      "metadata": {
        "colab": {
          "base_uri": "https://localhost:8080/"
        },
        "id": "B_qWMMMoRcuE",
        "outputId": "b8d1fd1f-167b-4b44-d49f-55a1118e637f"
      },
      "execution_count": 8,
      "outputs": [
        {
          "output_type": "stream",
          "name": "stdout",
          "text": [
            "['Ford', 'Mustang', 2018]\n"
          ]
        }
      ]
    },
    {
      "cell_type": "code",
      "source": [
        "# items() method to get both keys and values\n",
        "items = list(thisdict.items())\n",
        "print(items)"
      ],
      "metadata": {
        "colab": {
          "base_uri": "https://localhost:8080/"
        },
        "id": "mf5ennS9RunJ",
        "outputId": "274f159c-a9b1-4e0c-e68d-985ef9b8fc58"
      },
      "execution_count": 9,
      "outputs": [
        {
          "output_type": "stream",
          "name": "stdout",
          "text": [
            "[('brand', 'Ford'), ('model', 'Mustang'), ('year', 2018)]\n"
          ]
        }
      ]
    },
    {
      "cell_type": "markdown",
      "source": [
        "**Adding items to an existing dictionary**"
      ],
      "metadata": {
        "id": "Vsic0iXFR-gZ"
      }
    },
    {
      "cell_type": "code",
      "source": [
        "# add color of the bike\n",
        "thisdict[\"color\"] = \"Black\"\n",
        "print(thisdict)"
      ],
      "metadata": {
        "colab": {
          "base_uri": "https://localhost:8080/"
        },
        "id": "hTHPfmyUR9q8",
        "outputId": "937d8afd-177b-4d92-d8fc-76f72b0d0a7f"
      },
      "execution_count": 10,
      "outputs": [
        {
          "output_type": "stream",
          "name": "stdout",
          "text": [
            "{'brand': 'Ford', 'model': 'Mustang', 'year': 2018, 'color': 'Black'}\n"
          ]
        }
      ]
    },
    {
      "cell_type": "code",
      "source": [
        "# add tyreType\n",
        "thisdict['tyreType'] = 'Tubeless'\n",
        "print(thisdict)"
      ],
      "metadata": {
        "colab": {
          "base_uri": "https://localhost:8080/"
        },
        "id": "HVzIy1aVSfMB",
        "outputId": "abb2249b-97e2-412a-d7bb-1012a2152812"
      },
      "execution_count": 11,
      "outputs": [
        {
          "output_type": "stream",
          "name": "stdout",
          "text": [
            "{'brand': 'Ford', 'model': 'Mustang', 'year': 2018, 'color': 'Black', 'tyreType': 'Tubeless'}\n"
          ]
        }
      ]
    },
    {
      "cell_type": "markdown",
      "source": [
        "**Removing items**"
      ],
      "metadata": {
        "id": "Difez1A4Szch"
      }
    },
    {
      "cell_type": "code",
      "source": [
        "# 1) pop(key)\n",
        "remove = thisdict.pop('model')\n",
        "print(remove)\n",
        "print(thisdict)"
      ],
      "metadata": {
        "colab": {
          "base_uri": "https://localhost:8080/"
        },
        "id": "rNufTXs4S6VQ",
        "outputId": "1020cd92-8b6f-4a96-dbbc-69c91843530e"
      },
      "execution_count": 12,
      "outputs": [
        {
          "output_type": "stream",
          "name": "stdout",
          "text": [
            "Mustang\n",
            "{'brand': 'Ford', 'year': 2018, 'color': 'Black', 'tyreType': 'Tubeless'}\n"
          ]
        }
      ]
    },
    {
      "cell_type": "code",
      "source": [
        "# adding again\n",
        "thisdict['model'] = 'Pulsar'\n",
        "print(thisdict)"
      ],
      "metadata": {
        "colab": {
          "base_uri": "https://localhost:8080/"
        },
        "id": "PfBDcJsgTbJD",
        "outputId": "0a1d1dfc-efc8-4031-f343-2073036d9221"
      },
      "execution_count": 13,
      "outputs": [
        {
          "output_type": "stream",
          "name": "stdout",
          "text": [
            "{'brand': 'Ford', 'year': 2018, 'color': 'Black', 'tyreType': 'Tubeless', 'model': 'Pulsar'}\n"
          ]
        }
      ]
    },
    {
      "cell_type": "code",
      "source": [
        "# 2) popitem() removes the last inserted item\n",
        "print(thisdict)\n",
        "thisdict.popitem()\n",
        "print(thisdict)"
      ],
      "metadata": {
        "colab": {
          "base_uri": "https://localhost:8080/"
        },
        "id": "6cQ0MS81TqPs",
        "outputId": "b29982a1-e99d-4406-d1ed-81624caa2f25"
      },
      "execution_count": 15,
      "outputs": [
        {
          "output_type": "stream",
          "name": "stdout",
          "text": [
            "{'brand': 'Ford', 'year': 2018, 'color': 'Black', 'tyreType': 'Tubeless'}\n",
            "{'brand': 'Ford', 'year': 2018, 'color': 'Black'}\n"
          ]
        }
      ]
    },
    {
      "cell_type": "code",
      "source": [
        "# 4) clear() method\n",
        "thisdict.clear()\n",
        "print(thisdict)"
      ],
      "metadata": {
        "colab": {
          "base_uri": "https://localhost:8080/"
        },
        "id": "JB_07ylVUBj4",
        "outputId": "8f1c1673-5a80-43ad-e4bb-5ede53e755a2"
      },
      "execution_count": 22,
      "outputs": [
        {
          "output_type": "stream",
          "name": "stdout",
          "text": [
            "{}\n"
          ]
        }
      ]
    }
  ]
}