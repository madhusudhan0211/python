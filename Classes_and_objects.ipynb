{
  "nbformat": 4,
  "nbformat_minor": 0,
  "metadata": {
    "colab": {
      "name": "Classes and objects.ipynb",
      "provenance": [],
      "collapsed_sections": [],
      "authorship_tag": "ABX9TyPF4C2uJHuiPb18+xWs+vrf",
      "include_colab_link": true
    },
    "kernelspec": {
      "name": "python3",
      "display_name": "Python 3"
    },
    "language_info": {
      "name": "python"
    }
  },
  "cells": [
    {
      "cell_type": "markdown",
      "metadata": {
        "id": "view-in-github",
        "colab_type": "text"
      },
      "source": [
        "<a href=\"https://colab.research.google.com/github/madhusudhan0211/python/blob/main/Classes_and_objects.ipynb\" target=\"_parent\"><img src=\"https://colab.research.google.com/assets/colab-badge.svg\" alt=\"Open In Colab\"/></a>"
      ]
    },
    {
      "cell_type": "markdown",
      "source": [
        "# **Python Classes and Objects**\n",
        "**Python Classes/Objects**\n",
        "\n",
        "Almost everything in Python is an object, with its properties and methods.\n",
        "\n",
        "A Class is like an object constructor, or a \"blueprint\" for creating objects.\n",
        "\n",
        "**Create a Class**\n",
        "\n",
        "To create a class, use the keyword class:\n",
        "\n",
        "Example Create a class named MyClass, with a property named x:"
      ],
      "metadata": {
        "id": "VqXCvXWlj1-u"
      }
    },
    {
      "cell_type": "code",
      "execution_count": null,
      "metadata": {
        "id": "68m7tQlb9aQY"
      },
      "outputs": [],
      "source": [
        "#Create a class\n",
        "class myclass:\n",
        "  x=10"
      ]
    },
    {
      "cell_type": "markdown",
      "source": [
        "# **Create Object**\n",
        "\n",
        "Now we can use the class named MyClass to create objects:\n",
        "Example\n",
        "Create an object named p1, and print the value of x:"
      ],
      "metadata": {
        "id": "SqkZoWunkEmP"
      }
    },
    {
      "cell_type": "code",
      "source": [
        "#create an object\n",
        "p1=myclass()\n",
        "print(p1.x)"
      ],
      "metadata": {
        "colab": {
          "base_uri": "https://localhost:8080/"
        },
        "id": "thrYO9oJ9viL",
        "outputId": "2601f9c1-1e04-4c6e-f299-25e1366f7248"
      },
      "execution_count": null,
      "outputs": [
        {
          "output_type": "stream",
          "name": "stdout",
          "text": [
            "10\n"
          ]
        }
      ]
    },
    {
      "cell_type": "markdown",
      "source": [
        "# **The init() Function**\n",
        "\n",
        "The examples above are classes and objects in their simplest form, and are not really useful in real life applications.\n",
        "\n",
        "To understand the meaning of classes we have to understand the built-in init() function.\n",
        "\n",
        "All classes have a function called init(), which is always executed when the class is being initiated.\n",
        "\n",
        "Use the init() function to assign values to object properties, or other operations that are necessary to do when the object is being created:\n",
        "\n",
        "Example Create a class named Person, use the init() function to assign values for name and age:"
      ],
      "metadata": {
        "id": "owOWCsKCkPpR"
      }
    },
    {
      "cell_type": "code",
      "source": [
        "#The init() Function:\n",
        "class person:\n",
        "  def __init__(self,name,age):\n",
        "    self.name= name\n",
        "    self.age= age\n",
        "person1=person('Riya',23)\n",
        "person2=person('Ramu',25)\n",
        "print(person1.age)\n",
        "print(person2.name)\n",
        "print(person2.age)"
      ],
      "metadata": {
        "id": "CUgocKBv-SB7",
        "colab": {
          "base_uri": "https://localhost:8080/"
        },
        "outputId": "31257f8d-fb81-47b8-ec4b-a5dd4c672728"
      },
      "execution_count": null,
      "outputs": [
        {
          "output_type": "stream",
          "name": "stdout",
          "text": [
            "23\n",
            "Ramu\n",
            "25\n"
          ]
        }
      ]
    },
    {
      "cell_type": "markdown",
      "source": [
        "# **Object Methods**\n",
        "\n",
        "Objects can also contain methods. Methods in objects are functions that belong to the object.\n",
        "\n",
        "Let us create a method in the Person class:"
      ],
      "metadata": {
        "id": "vBhyOSlZktHI"
      }
    },
    {
      "cell_type": "code",
      "source": [
        "#Object Methods\n",
        "#Example\n",
        "#Insert a function that prints a greeting, and execute it on the p1 object:\n",
        "def myfunction(self):\n",
        "  print(\"Hello my name is\"+self.name)\n",
        "  p1.person(\"John\",36)\n",
        "  p1.myfunction()"
      ],
      "metadata": {
        "id": "f_zsvGfOdrRL"
      },
      "execution_count": 1,
      "outputs": []
    },
    {
      "cell_type": "markdown",
      "source": [
        "# **self parameter**\n",
        "\n",
        "Class methods must have an extra first parameter in method definition. We do not give a value for this parameter when we call the method, Python provides it\n",
        "\n",
        "The self parameter is a reference to the current instance of the class\n",
        "\n",
        "It can be used to access variables that belongs to the class."
      ],
      "metadata": {
        "id": "fTYqmUqolN6I"
      }
    },
    {
      "cell_type": "code",
      "source": [
        "class Dog:\n",
        "    def __init__(self,breed,size,age):\n",
        "        self.breed = breed\n",
        "        self.size = size\n",
        "        self.age = age\n",
        "dog1 = Dog('Pug','small',1)\n",
        "dog1.age\n",
        "dog1.breed\n",
        "dog1.size"
      ],
      "metadata": {
        "id": "bgA1DsUGlYX-",
        "outputId": "ad5761a3-7d8a-459f-be2f-831f40f0744d",
        "colab": {
          "base_uri": "https://localhost:8080/",
          "height": 35
        }
      },
      "execution_count": 5,
      "outputs": [
        {
          "output_type": "execute_result",
          "data": {
            "application/vnd.google.colaboratory.intrinsic+json": {
              "type": "string"
            },
            "text/plain": [
              "'small'"
            ]
          },
          "metadata": {},
          "execution_count": 5
        }
      ]
    },
    {
      "cell_type": "markdown",
      "source": [
        "# **class variables and instance variables**\n",
        "\n",
        "class variables are the variables that are common to all the objects\n",
        "instance variables are the variables that are specific to the perticular objects"
      ],
      "metadata": {
        "id": "fassuf2kluMe"
      }
    },
    {
      "cell_type": "code",
      "source": [
        "class Dog:\n",
        "    #class variables\n",
        "    species = 'mammal'\n",
        "    city = 'Bengaluru' #Assumed for this example\n",
        "    \n",
        "    def __init__(self,breed,size,age):\n",
        "        #instance variables\n",
        "        self.breed = breed\n",
        "        self.size = size\n",
        "        self.age = age\n",
        "dog1 = Dog('pug','small',1)\n",
        "dog2 = Dog('bulldog','medium',2)\n",
        "dog1.species\n",
        "dog2.city\n",
        "dog2.breed"
      ],
      "metadata": {
        "id": "XWZJf1uul2kN",
        "outputId": "3688ca4c-ed3f-4e2b-e160-d253dd802171",
        "colab": {
          "base_uri": "https://localhost:8080/",
          "height": 35
        }
      },
      "execution_count": 9,
      "outputs": [
        {
          "output_type": "execute_result",
          "data": {
            "application/vnd.google.colaboratory.intrinsic+json": {
              "type": "string"
            },
            "text/plain": [
              "'bulldog'"
            ]
          },
          "metadata": {},
          "execution_count": 9
        }
      ]
    },
    {
      "cell_type": "markdown",
      "source": [
        "**Note: you can access the class variables by using the classname itself ie.,**\n",
        "\n",
        "ClassName.class_variable"
      ],
      "metadata": {
        "id": "MvlbchVambLf"
      }
    },
    {
      "cell_type": "code",
      "source": [
        "Dog.species\n"
      ],
      "metadata": {
        "id": "LZITZgbemh59",
        "outputId": "bec9fd56-6cec-4b02-f0ac-723aad6e5ef0",
        "colab": {
          "base_uri": "https://localhost:8080/",
          "height": 35
        }
      },
      "execution_count": 10,
      "outputs": [
        {
          "output_type": "execute_result",
          "data": {
            "application/vnd.google.colaboratory.intrinsic+json": {
              "type": "string"
            },
            "text/plain": [
              "'mammal'"
            ]
          },
          "metadata": {},
          "execution_count": 10
        }
      ]
    },
    {
      "cell_type": "markdown",
      "source": [
        "# **Circle**"
      ],
      "metadata": {
        "id": "_wSbicf9mp-V"
      }
    },
    {
      "cell_type": "code",
      "source": [
        "class CircleClass:\n",
        "    #class variable\n",
        "    pie = 3.14\n",
        "    \n",
        "    def __init__(self,radius):\n",
        "        self.radius = radius\n",
        "        \n",
        "    def get_area(self):\n",
        "        return self.pie * self.radius * self.radius\n",
        "    \n",
        "    def get_circumference(self):\n",
        "        return 2 * self.pie * self.radius\n",
        "cir1 = CircleClass(5)\n",
        "cir2 = CircleClass(10)\n",
        "cir3 = CircleClass(15)\n",
        "cir1.get_area()"
      ],
      "metadata": {
        "id": "zaL-OIIDmySM",
        "outputId": "e0c2d55c-d353-4349-a432-0a9b3306de02",
        "colab": {
          "base_uri": "https://localhost:8080/"
        }
      },
      "execution_count": 11,
      "outputs": [
        {
          "output_type": "execute_result",
          "data": {
            "text/plain": [
              "78.5"
            ]
          },
          "metadata": {},
          "execution_count": 11
        }
      ]
    },
    {
      "cell_type": "code",
      "source": [
        "cir2.get_area()"
      ],
      "metadata": {
        "id": "n0bbajtem8Pk",
        "outputId": "dd7ca9f7-1ae6-4c54-cc65-34b6014a8608",
        "colab": {
          "base_uri": "https://localhost:8080/"
        }
      },
      "execution_count": 12,
      "outputs": [
        {
          "output_type": "execute_result",
          "data": {
            "text/plain": [
              "314.0"
            ]
          },
          "metadata": {},
          "execution_count": 12
        }
      ]
    },
    {
      "cell_type": "code",
      "source": [
        "cir3.get_area()"
      ],
      "metadata": {
        "id": "zypJrTiYm_f-",
        "outputId": "3d18e677-4887-44d4-8202-00c7ec2b943c",
        "colab": {
          "base_uri": "https://localhost:8080/"
        }
      },
      "execution_count": 13,
      "outputs": [
        {
          "output_type": "execute_result",
          "data": {
            "text/plain": [
              "706.5"
            ]
          },
          "metadata": {},
          "execution_count": 13
        }
      ]
    }
  ]
}