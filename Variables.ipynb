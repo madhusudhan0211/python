{
  "cells": [
    {
      "cell_type": "markdown",
      "metadata": {
        "id": "view-in-github",
        "colab_type": "text"
      },
      "source": [
        "<a href=\"https://colab.research.google.com/github/madhusudhan0211/python/blob/main/Variables.ipynb\" target=\"_parent\"><img src=\"https://colab.research.google.com/assets/colab-badge.svg\" alt=\"Open In Colab\"/></a>"
      ]
    },
    {
      "cell_type": "code",
      "execution_count": null,
      "metadata": {
        "colab": {
          "base_uri": "https://localhost:8080/"
        },
        "id": "rVlNZJvY_3mp",
        "outputId": "7ad6ae38-fe92-4702-8b6c-8850dc7d529f"
      },
      "outputs": [
        {
          "name": "stdout",
          "output_type": "stream",
          "text": [
            "five is greater than two!\n"
          ]
        }
      ],
      "source": [
        "#1. insert the missing indentation to make the code correct:\n",
        "if 5>2:\n",
        "  print(\"five is greater than two!\")"
      ]
    },
    {
      "cell_type": "code",
      "execution_count": null,
      "metadata": {
        "colab": {
          "background_save": true,
          "base_uri": "https://localhost:8080/"
        },
        "id": "dQE-J0xWAif6",
        "outputId": "dcac192d-b094-4eb0-9057-a19de5091bd7"
      },
      "outputs": [
        {
          "name": "stdout",
          "output_type": "stream",
          "text": [
            "Volvo\n"
          ]
        }
      ],
      "source": [
        "#2. Create a variable named carname and assign the value volvo to it and then print the variable\n",
        "carname = \"Volvo\"\n",
        "print(carname)"
      ]
    },
    {
      "cell_type": "code",
      "execution_count": null,
      "metadata": {
        "colab": {
          "base_uri": "https://localhost:8080/"
        },
        "id": "zeQWO6ChBIUo",
        "outputId": "951b3148-e936-4df1-9f84-6cef57cfe809"
      },
      "outputs": [
        {
          "name": "stdout",
          "output_type": "stream",
          "text": [
            "50\n"
          ]
        }
      ],
      "source": [
        "#3. create a variable named x and assign the value 50 to it and print the variable.\n",
        "x=50\n",
        "print(x)"
      ]
    },
    {
      "cell_type": "code",
      "execution_count": null,
      "metadata": {
        "colab": {
          "base_uri": "https://localhost:8080/"
        },
        "id": "wbOc29iEBgCv",
        "outputId": "711224e8-ced3-4d38-9147-207212ca2b03"
      },
      "outputs": [
        {
          "name": "stdout",
          "output_type": "stream",
          "text": [
            "40\n"
          ]
        }
      ],
      "source": [
        "#4. Display the sum of 10+30, using two variables: x and y\n",
        "x=10\n",
        "y=30\n",
        "print(x+y) "
      ]
    },
    {
      "cell_type": "code",
      "execution_count": null,
      "metadata": {
        "colab": {
          "base_uri": "https://localhost:8080/"
        },
        "id": "6R6KqzbuCCjA",
        "outputId": "038bbb9a-d1c9-468b-b017-9899e391c1af"
      },
      "outputs": [
        {
          "name": "stdout",
          "output_type": "stream",
          "text": [
            "150\n"
          ]
        }
      ],
      "source": [
        "#5. Create a variable called z, assign x+y to it where x=50 & y=100, and display the result.\n",
        "x=50\n",
        "y=100\n",
        "z=(x+y)\n",
        "print(z)"
      ]
    },
    {
      "cell_type": "code",
      "execution_count": null,
      "metadata": {
        "colab": {
          "base_uri": "https://localhost:8080/"
        },
        "id": "XUMCR4sJCnuf",
        "outputId": "6f0ea897-a4c4-4fe5-a27e-0a79f11bc7d3"
      },
      "outputs": [
        {
          "name": "stdout",
          "output_type": "stream",
          "text": [
            "<class 'str'>\n",
            "<class 'int'>\n",
            "<class 'float'>\n",
            "<class 'complex'>\n"
          ]
        }
      ],
      "source": [
        "#6. print the data types of the following:\n",
        "x= \"Hello world\"\n",
        "x= 55\n",
        "x= 100.5\n",
        "x= 5j\n",
        "x= [\"apple\",\"banana\",\"mango\"]\n",
        "x= (\"apple\",\"banana\",\"mango\")\n",
        "x= {\"name\" : \"rohan\",\"age\": 25 }\n",
        "x= {\"apple\", \"banana\", \"mango\"}\n",
        "x= \"Hello world python\"\n",
        "print(type(x))\n",
        "x= 55\n",
        "print(type(x))\n",
        "x= 100.5\n",
        "print(type(x))\n",
        "x=5j\n",
        "print(type(x))\n",
        " "
      ]
    },
    {
      "cell_type": "code",
      "execution_count": null,
      "metadata": {
        "colab": {
          "base_uri": "https://localhost:8080/"
        },
        "id": "Z1_cYQKsJN5X",
        "outputId": "973272e7-e4c9-4744-8af3-334e5990b682"
      },
      "outputs": [
        {
          "name": "stdout",
          "output_type": "stream",
          "text": [
            "This is a python multiline comment\n",
            "written in \n",
            "more than just one line\n"
          ]
        }
      ],
      "source": [
        "#7. Use a multiline string tom make the a multi line comment:\n",
        "a=\"\"\"This is a python multiline comment\n",
        "written in \n",
        "more than just one line\"\"\"\n",
        "print(a)"
      ]
    },
    {
      "cell_type": "code",
      "execution_count": null,
      "metadata": {
        "id": "0OKk_3k9Ju5z"
      },
      "outputs": [],
      "source": [
        "#8. Give examples og legal variables and illegal variables.\n",
        "legal variables\n",
        "netzwerk\n",
        "NETZWERK\n",
        "\n",
        "illegal variables\n",
        "2netzwerk\n",
        "NETZ_WERk"
      ]
    },
    {
      "cell_type": "code",
      "execution_count": null,
      "metadata": {
        "colab": {
          "base_uri": "https://localhost:8080/"
        },
        "id": "Q5T2hMhRKiVW",
        "outputId": "2106512b-c8d6-43ba-a2c1-f6429ad8aa66"
      },
      "outputs": [
        {
          "name": "stdout",
          "output_type": "stream",
          "text": [
            "20\n"
          ]
        }
      ],
      "source": [
        "#9. Exercise\n",
        "#Find the length of the string.\n",
        "x = \"Greetings of the day\"\n",
        "print(len(x))"
      ]
    },
    {
      "cell_type": "code",
      "execution_count": null,
      "metadata": {
        "colab": {
          "base_uri": "https://localhost:8080/"
        },
        "id": "8WDQ9DgAK2hz",
        "outputId": "a84361d1-180c-4935-b1b2-6ea942a892e6"
      },
      "outputs": [
        {
          "name": "stdout",
          "output_type": "stream",
          "text": [
            "e\n"
          ]
        }
      ],
      "source": [
        "#10. Get the first character of the string txt.\n",
        "txt= \"Hello Netzwerk Academy\"\n",
        "print(txt[1])"
      ]
    },
    {
      "cell_type": "code",
      "execution_count": null,
      "metadata": {
        "colab": {
          "background_save": true,
          "base_uri": "https://localhost:8080/"
        },
        "id": "toC6M0XFM3Ae",
        "outputId": "ace4c33b-20a3-4c17-b529-4aac9dbfbc0a"
      },
      "outputs": [
        {
          "name": "stdout",
          "output_type": "stream",
          "text": [
            "ll\n"
          ]
        }
      ],
      "source": [
        "#11. Get the characters from index 2 to index 4 (llo)\n",
        "txt = \"Hello Netzwerk Academy\"\n",
        "print(txt[2:4])"
      ]
    }
  ],
  "metadata": {
    "colab": {
      "collapsed_sections": [],
      "name": "Variables.ipynb",
      "provenance": [],
      "authorship_tag": "ABX9TyMk7UOuQ9PyGXbGQ5T9K5IL",
      "include_colab_link": true
    },
    "kernelspec": {
      "display_name": "Python 3",
      "name": "python3"
    },
    "language_info": {
      "name": "python"
    }
  },
  "nbformat": 4,
  "nbformat_minor": 0
}