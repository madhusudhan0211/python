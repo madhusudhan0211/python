{
  "nbformat": 4,
  "nbformat_minor": 0,
  "metadata": {
    "colab": {
      "name": "Filehandling.ipynb",
      "provenance": [],
      "collapsed_sections": [],
      "authorship_tag": "ABX9TyO6VBDGYCNB6TiAx9HNw3ED",
      "include_colab_link": true
    },
    "kernelspec": {
      "name": "python3",
      "display_name": "Python 3"
    },
    "language_info": {
      "name": "python"
    }
  },
  "cells": [
    {
      "cell_type": "markdown",
      "metadata": {
        "id": "view-in-github",
        "colab_type": "text"
      },
      "source": [
        "<a href=\"https://colab.research.google.com/github/madhusudhan0211/python/blob/main/Filehandling.ipynb\" target=\"_parent\"><img src=\"https://colab.research.google.com/assets/colab-badge.svg\" alt=\"Open In Colab\"/></a>"
      ]
    },
    {
      "cell_type": "code",
      "execution_count": 1,
      "metadata": {
        "id": "hKrIlPS2wb7q"
      },
      "outputs": [],
      "source": [
        "#To open a file for reading it is enough to specify the name of the file.\n",
        "f=open(\"file.txt\")\n"
      ]
    },
    {
      "cell_type": "code",
      "source": [
        "# The open() function returns a file object,which has a read() method for reading.\n",
        "#Example\n",
        "f=open(\"file.txt\",\"r\")\n",
        "print(f.read())"
      ],
      "metadata": {
        "colab": {
          "base_uri": "https://localhost:8080/"
        },
        "id": "hvXurouFxs2Y",
        "outputId": "450760e1-4b3a-46e7-f912-fd69e49803b2"
      },
      "execution_count": 2,
      "outputs": [
        {
          "output_type": "stream",
          "name": "stdout",
          "text": [
            "welcome to Data science course provided by Netzwerk Academy\n"
          ]
        }
      ]
    },
    {
      "cell_type": "code",
      "source": [
        "#Example \n",
        "#Loop through the file line by line:\n",
        "f=open(\"file.txt\",\"r\")\n",
        "for x in f:\n",
        "  print(x)"
      ],
      "metadata": {
        "colab": {
          "base_uri": "https://localhost:8080/"
        },
        "id": "o07Uoj7HyQue",
        "outputId": "c46de532-2c2b-44b7-8aa3-e09edb20c8b7"
      },
      "execution_count": 3,
      "outputs": [
        {
          "output_type": "stream",
          "name": "stdout",
          "text": [
            "welcome to Data science course provided by Netzwerk Academy\n"
          ]
        }
      ]
    },
    {
      "cell_type": "code",
      "source": [
        "#Example\n",
        "#Close the file when you are finish with it\n",
        "f=open(\"file.txt\",\"r\")\n",
        "print(f.readline())\n",
        "f.close()"
      ],
      "metadata": {
        "colab": {
          "base_uri": "https://localhost:8080/"
        },
        "id": "JwES9PUIyxm2",
        "outputId": "f565ba11-86ce-4526-b3ac-c4aa47ecf040"
      },
      "execution_count": 4,
      "outputs": [
        {
          "output_type": "stream",
          "name": "stdout",
          "text": [
            "welcome to Data science course provided by Netzwerk Academy\n"
          ]
        }
      ]
    },
    {
      "cell_type": "code",
      "source": [
        "#Example \n",
        "#open the file \"file.txt\" and append content to the file:\n",
        "f = open(\"files.txt\",\"a\")\n",
        "f.write(\"and placement assitance\")\n",
        "f.close()"
      ],
      "metadata": {
        "id": "d368woAgzfvA"
      },
      "execution_count": 27,
      "outputs": []
    },
    {
      "cell_type": "code",
      "source": [
        "f=open(\"files.txt\",\"r\")\n",
        "print(f.read())"
      ],
      "metadata": {
        "colab": {
          "base_uri": "https://localhost:8080/"
        },
        "id": "HyLnaG4S2G2S",
        "outputId": "80420382-ced5-4168-9b67-ae69c461d467"
      },
      "execution_count": 29,
      "outputs": [
        {
          "output_type": "stream",
          "name": "stdout",
          "text": [
            "and placement assitance\n"
          ]
        }
      ]
    },
    {
      "cell_type": "code",
      "source": [
        "#Example \n",
        "#Create a file called \"myfiles.txt\"\n",
        "f = open(\"myfiles.txt\",\"x\")"
      ],
      "metadata": {
        "id": "gZpDK94j3Dy9"
      },
      "execution_count": 38,
      "outputs": []
    },
    {
      "cell_type": "code",
      "source": [
        "#Delete a file\n",
        "import os \n",
        "os.remove(\"myfiles.txt\")"
      ],
      "metadata": {
        "id": "1tMi9GDs3zbO"
      },
      "execution_count": 39,
      "outputs": []
    },
    {
      "cell_type": "code",
      "source": [
        "#Check if the file exists,then delete it\n",
        "import os \n",
        "if os.path.exists(\"myfiles.txt\"):\n",
        "  os.remove(\"myfiles.txt\")\n",
        "else:\n",
        "  print(\"The file does not exist\")"
      ],
      "metadata": {
        "colab": {
          "base_uri": "https://localhost:8080/"
        },
        "id": "8CltFn914jJO",
        "outputId": "6a1a4b74-4e2a-415f-b73c-924247f52158"
      },
      "execution_count": 40,
      "outputs": [
        {
          "output_type": "stream",
          "name": "stdout",
          "text": [
            "The file does not exist\n"
          ]
        }
      ]
    }
  ]
}