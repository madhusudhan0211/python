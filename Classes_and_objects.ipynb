{
  "nbformat": 4,
  "nbformat_minor": 0,
  "metadata": {
    "colab": {
      "name": "Classes and objects.ipynb",
      "provenance": [],
      "collapsed_sections": [],
      "authorship_tag": "ABX9TyNX/d9IR2iiAw9yxitq8F0w",
      "include_colab_link": true
    },
    "kernelspec": {
      "name": "python3",
      "display_name": "Python 3"
    },
    "language_info": {
      "name": "python"
    }
  },
  "cells": [
    {
      "cell_type": "markdown",
      "metadata": {
        "id": "view-in-github",
        "colab_type": "text"
      },
      "source": [
        "<a href=\"https://colab.research.google.com/github/madhusudhan0211/python/blob/main/Classes_and_objects.ipynb\" target=\"_parent\"><img src=\"https://colab.research.google.com/assets/colab-badge.svg\" alt=\"Open In Colab\"/></a>"
      ]
    },
    {
      "cell_type": "code",
      "execution_count": null,
      "metadata": {
        "id": "68m7tQlb9aQY"
      },
      "outputs": [],
      "source": [
        "#Create a class\n",
        "class myclass:\n",
        "  x=10"
      ]
    },
    {
      "cell_type": "code",
      "source": [
        "#create an object\n",
        "p1=myclass()\n",
        "print(p1.x)"
      ],
      "metadata": {
        "colab": {
          "base_uri": "https://localhost:8080/"
        },
        "id": "thrYO9oJ9viL",
        "outputId": "2601f9c1-1e04-4c6e-f299-25e1366f7248"
      },
      "execution_count": null,
      "outputs": [
        {
          "output_type": "stream",
          "name": "stdout",
          "text": [
            "10\n"
          ]
        }
      ]
    },
    {
      "cell_type": "code",
      "source": [
        "#The init() Function:\n",
        "class person:\n",
        "  def __init__(self,name,age):\n",
        "    self.name= name\n",
        "    self.age= age\n",
        "person1=person('Riya',23)\n",
        "person2=person('Ramu',25)\n",
        "print(person1.age)\n",
        "print(person2.name)\n",
        "print(person2.age)"
      ],
      "metadata": {
        "id": "CUgocKBv-SB7",
        "colab": {
          "base_uri": "https://localhost:8080/"
        },
        "outputId": "31257f8d-fb81-47b8-ec4b-a5dd4c672728"
      },
      "execution_count": 20,
      "outputs": [
        {
          "output_type": "stream",
          "name": "stdout",
          "text": [
            "23\n",
            "Ramu\n",
            "25\n"
          ]
        }
      ]
    },
    {
      "cell_type": "code",
      "source": [
        "#Object Methods\n",
        "def myfunction(self):\n",
        "  print(\"Hello my name is\"+self.name)\n",
        "  p1.person(\"John\",36)\n",
        "  p1.myfunction()"
      ],
      "metadata": {
        "id": "f_zsvGfOdrRL"
      },
      "execution_count": 23,
      "outputs": []
    }
  ]
}