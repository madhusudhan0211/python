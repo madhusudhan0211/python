{
  "nbformat": 4,
  "nbformat_minor": 0,
  "metadata": {
    "colab": {
      "name": "Pythonintro.ipynb",
      "provenance": [],
      "collapsed_sections": [],
      "authorship_tag": "ABX9TyMuCLxKVxc/xt7KWtzRYC+W",
      "include_colab_link": true
    },
    "kernelspec": {
      "name": "python3",
      "display_name": "Python 3"
    },
    "language_info": {
      "name": "python"
    }
  },
  "cells": [
    {
      "cell_type": "markdown",
      "metadata": {
        "id": "view-in-github",
        "colab_type": "text"
      },
      "source": [
        "<a href=\"https://colab.research.google.com/github/madhusudhan0211/python/blob/main/Pythonintro.ipynb\" target=\"_parent\"><img src=\"https://colab.research.google.com/assets/colab-badge.svg\" alt=\"Open In Colab\"/></a>"
      ]
    },
    {
      "cell_type": "markdown",
      "source": [
        "\n",
        "# **Introduction To Python**\n",
        "It was created by Guido van Rossum, and released in 1991.\n",
        "Python is a High Level, Interpreted and Object Oriented programming language."
      ],
      "metadata": {
        "id": "dBPnaa56-eDt"
      }
    },
    {
      "cell_type": "markdown",
      "source": [
        "# **What is a Programming Language?**\n",
        "It is a set of instructions given to computer to get the desired output.\n",
        "\n",
        "Programming languages can be broadly classified as 2 types:\n",
        "\n",
        "**High Level programming language.**\n",
        "\n",
        "**Low level programming language.**\n",
        "\n",
        "# **1) High Level programming language**\n",
        "\n",
        "It is programmer friendly language.\n",
        "\n",
        "It can be easily understood by the programmer.\n",
        "\n",
        "It is simple to debug.\n",
        "\n",
        "It is simple to maintain.\n",
        "\n",
        "It needs compiler or interpreter for translation\n",
        "\n",
        "# **2) Low Level programming language**\n",
        "\n",
        "It is a machine friendly language (instructions will be in the form of 0s and 1s).\n",
        "\n",
        "It is tough to understand by the programmer but it can be easily understood by the computers.\n",
        "\n",
        "It is complex to debug comparatively.\n",
        "\n",
        "It is complex to maintain comparatively."
      ],
      "metadata": {
        "id": "7PwF9Xfa-mMd"
      }
    },
    {
      "cell_type": "markdown",
      "source": [
        "# **What can Python do?**\n",
        "\n",
        "Python can be used to create web applications.\n",
        "\n",
        "Python can be used alongside software to create workflows.\n",
        "\n",
        "Python can connect to database systems.\n",
        "\n",
        "Python can also read and modify files.\n",
        "\n",
        "Python can be used to handle big data and perform complex mathematics.\n",
        "\n",
        "# **Why Python?**\n",
        "\n",
        "Python works on different platforms (Windows, Mac, Linux, Raspberry Pi, etc).\n",
        "\n",
        "Python has a simple syntax similar to the English language.\n",
        "\n",
        "Python has syntax that allows developers to write programs with fewer lines than some other programming languages.\n",
        "\n",
        "Abundance of libraries and frameworks that facilitate coding and save \n",
        "development time.\n",
        "\n",
        "It also boasts a large and active community of developers willing to provide advice and assistance through all stages of the development process."
      ],
      "metadata": {
        "id": "-ycQG2Nf-l42"
      }
    },
    {
      "cell_type": "markdown",
      "source": [
        "# **Python Indentation**\n",
        "Python relies on indentation, using whitespace, to define scope; such as the scope of loops, functions and classes. \n",
        "\n",
        "Other programming languages often use curly-brackets for this purpose.\n",
        "\n",
        "Python uses indentation  to highlight the blocks of code. Whitespace is used for  indentation  in Python. All statements with the same distance to the right belong to the same block of code. If a block has to be more deeply nested, it is simply indented further to the right. You can understand it better by looking at the following lines of code.\n",
        "\n",
        "Indentation refers to the spaces at the beginning of a code line.\n",
        "Where in other programming languages the indentation in code is for readability only, the indentation in Python is very important.\n",
        "\n",
        "\n",
        "# **Python Comments**\n",
        "Comments are useful information that the developers provide to make the reader understand the source code. \n",
        "\n",
        "It explains the logic or a part of it used in the code. There are two types of comment in Python:\n",
        "\n",
        "Single line comments\n",
        "\n",
        "Multi-line string as comment\n"
      ],
      "metadata": {
        "id": "ZeNwcQG9_5O3"
      }
    },
    {
      "cell_type": "markdown",
      "source": [
        "# **Python**"
      ],
      "metadata": {
        "id": "OraQJkLdAhjH"
      }
    },
    {
      "cell_type": "code",
      "execution_count": 1,
      "metadata": {
        "colab": {
          "base_uri": "https://localhost:8080/"
        },
        "id": "nn1_YYgD-VoT",
        "outputId": "f52215bc-2ecc-4b1e-b207-cda657da48fb"
      },
      "outputs": [
        {
          "output_type": "stream",
          "name": "stdout",
          "text": [
            "Hello World\n"
          ]
        }
      ],
      "source": [
        "print('Hello World')"
      ]
    },
    {
      "cell_type": "markdown",
      "source": [
        "**Python will give you an error if you skip the #indentation:**"
      ],
      "metadata": {
        "id": "PljQAFr5A3ue"
      }
    },
    {
      "cell_type": "code",
      "source": [
        "#Syntax Error\n",
        "# if 5 > 2:\n",
        "# print(\"Five is greater than two!\") \n",
        "\n",
        "if 5 > 2: \n",
        "  print(\"Five is greater than two!\")\n",
        "\n",
        "#The number of spaces is up to you as a programmer, but it has to be at least one.\n",
        "if 5 > 2:\n",
        " print(\"Five is greater than two!\") \n",
        "if 5 > 2:\n",
        "        print(\"Five is greater than two!\") \n",
        "#You have to use the same number of spaces in the same block of code, otherwise Python will give you an error:\n",
        "if 5 > 2:\n",
        " print(\"Five is greater than two!\")\n",
        " print(\"Five is greater than two!\")"
      ],
      "metadata": {
        "colab": {
          "base_uri": "https://localhost:8080/"
        },
        "id": "KJCQapsoA7Qt",
        "outputId": "41a8069c-8882-43a2-f3f3-4db6d9491669"
      },
      "execution_count": 3,
      "outputs": [
        {
          "output_type": "stream",
          "name": "stdout",
          "text": [
            "Five is greater than two!\n",
            "Five is greater than two!\n",
            "Five is greater than two!\n",
            "Five is greater than two!\n",
            "Five is greater than two!\n"
          ]
        }
      ]
    },
    {
      "cell_type": "markdown",
      "source": [
        "# **Comments**\n",
        "Comments can be used to explain Python code. Comments can be used to make the code more readable. Comments can be used to prevent execution when testing code.\n",
        "\n",
        "Creating a Comment Comments starts with a #, and Python will ignore them:"
      ],
      "metadata": {
        "id": "GVO0WJNcBXi1"
      }
    },
    {
      "cell_type": "code",
      "source": [
        "#This is a comment\n",
        "print(\"Hello, World!\")\n",
        "print(\"Hello, World!\") #This is a comment\n",
        "#A comment does not have to be text that explains the code, it can also be used to prevent Python from executing code:\n",
        "#print(\"Hello, World!\")\n",
        "print(\"Cheers, Mate!\")"
      ],
      "metadata": {
        "colab": {
          "base_uri": "https://localhost:8080/"
        },
        "id": "d80hvVaeBb_G",
        "outputId": "f0999066-1178-4880-db49-004eb5dd0077"
      },
      "execution_count": 4,
      "outputs": [
        {
          "output_type": "stream",
          "name": "stdout",
          "text": [
            "Hello, World!\n",
            "Hello, World!\n",
            "Cheers, Mate!\n"
          ]
        }
      ]
    },
    {
      "cell_type": "markdown",
      "source": [
        "# **Multi Line Comments**\n",
        "\n",
        "Python does not really have a syntax for multi line comments. \n",
        "\n",
        "To add a multiline comment you could insert a # for each line:"
      ],
      "metadata": {
        "id": "BSenlAorBoap"
      }
    },
    {
      "cell_type": "code",
      "source": [
        "#This is a comment\n",
        "#written in\n",
        "#more than just one line\n",
        "print(\"Hello, World!\")"
      ],
      "metadata": {
        "id": "HNGo0kOPB-7w"
      },
      "execution_count": null,
      "outputs": []
    }
  ]
}