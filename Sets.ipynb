{
  "nbformat": 4,
  "nbformat_minor": 0,
  "metadata": {
    "colab": {
      "name": "Sets.ipynb",
      "provenance": [],
      "collapsed_sections": [],
      "authorship_tag": "ABX9TyPpu2B89uiMQ20nIpwlDWG3",
      "include_colab_link": true
    },
    "kernelspec": {
      "name": "python3",
      "display_name": "Python 3"
    },
    "language_info": {
      "name": "python"
    }
  },
  "cells": [
    {
      "cell_type": "markdown",
      "metadata": {
        "id": "view-in-github",
        "colab_type": "text"
      },
      "source": [
        "<a href=\"https://colab.research.google.com/github/madhusudhan0211/python/blob/main/Sets.ipynb\" target=\"_parent\"><img src=\"https://colab.research.google.com/assets/colab-badge.svg\" alt=\"Open In Colab\"/></a>"
      ]
    },
    {
      "cell_type": "markdown",
      "source": [
        "# **Python Sets**\n",
        "\n",
        "Set Sets are used to store multiple items in a single variable.\n",
        "\n",
        "Set is one of 4 built-in data types in Python used to store collections of data, the other 3 are List, Tuple, and Dictionary, all with different qualities and usage.\n",
        "\n",
        "A set is a collection which is unordered, unchangeable*, and unindexed.\n",
        "\n",
        "Note: Set items are unchangeable, but you can remove items and add new items.\n",
        "Sets are written with curly brackets.\n",
        "\n",
        "**Important properties of sets**\n",
        "\n",
        "Can store different data types\n",
        "\n",
        "Duplicate values are not allowed\n",
        "\n",
        "Order is not retained\n",
        "\n",
        "Indexing and slicing is not possible"
      ],
      "metadata": {
        "id": "lZxaxVkgiEhJ"
      }
    },
    {
      "cell_type": "code",
      "source": [
        "myset = {\"apple\", \"banana\", \"cherry\"}"
      ],
      "metadata": {
        "id": "_kYSMVxuiOvw"
      },
      "execution_count": null,
      "outputs": []
    },
    {
      "cell_type": "code",
      "source": [
        "# Example\n",
        "# Create a Set:\n",
        "\n",
        "thisset = {\"apple\", \"banana\", \"cherry\"}\n",
        "print(thisset)"
      ],
      "metadata": {
        "colab": {
          "base_uri": "https://localhost:8080/"
        },
        "id": "gRjb936-i6gM",
        "outputId": "1a903e89-61f7-4a07-9127-c0900ada2eee"
      },
      "execution_count": null,
      "outputs": [
        {
          "output_type": "stream",
          "name": "stdout",
          "text": [
            "{'apple', 'cherry', 'banana'}\n"
          ]
        }
      ]
    },
    {
      "cell_type": "markdown",
      "source": [
        "***Note: ***Sets are unordered, so you cannot be sure in which order the items will appear.\n",
        "\n",
        "**Set Items**  Set items are unordered, unchangeable, and do not allow duplicate values.\n",
        "\n",
        "**Unordered** Unordered means that the items in a set do not have a defined order.\n",
        "\n",
        "**Set items** can appear in a different order every time you use them, and cannot be referred to by index or key.\n",
        "\n",
        "**Unchangeable** Set items are unchangeable, meaning that we cannot change the items after the set has been created.\n",
        "\n",
        "Once a set is created, you cannot change its items, but you can remove items and add new items.\n",
        "\n",
        "**Duplicates** Not Allowed Sets cannot have two items with the same value."
      ],
      "metadata": {
        "id": "wU8imYili4k1"
      }
    },
    {
      "cell_type": "code",
      "source": [
        "# Example\n",
        "# Duplicate values will be ignored:\n",
        "\n",
        "thisset = {\"apple\", \"banana\", \"cherry\", \"apple\"}\n",
        "\n",
        "print(thisset)"
      ],
      "metadata": {
        "colab": {
          "base_uri": "https://localhost:8080/"
        },
        "id": "H2Qsv2rgjaYu",
        "outputId": "58a1d238-bf33-419d-8918-8a3442c32d1c"
      },
      "execution_count": null,
      "outputs": [
        {
          "output_type": "stream",
          "name": "stdout",
          "text": [
            "{'apple', 'cherry', 'banana'}\n"
          ]
        }
      ]
    },
    {
      "cell_type": "markdown",
      "source": [
        "**Get the Length** of a Set To determine how many items a set has, use the len() method."
      ],
      "metadata": {
        "id": "t1rFvItvjind"
      }
    },
    {
      "cell_type": "code",
      "source": [
        "# Example\n",
        "# Get the number of items in a set:\n",
        "\n",
        "thisset = {\"apple\", \"banana\", \"cherry\"}\n",
        "\n",
        "print(len(thisset))"
      ],
      "metadata": {
        "colab": {
          "base_uri": "https://localhost:8080/"
        },
        "id": "emfKHe3Wjy1_",
        "outputId": "e470f487-0126-4d86-8e17-d994e9232c97"
      },
      "execution_count": null,
      "outputs": [
        {
          "output_type": "stream",
          "name": "stdout",
          "text": [
            "3\n"
          ]
        }
      ]
    },
    {
      "cell_type": "markdown",
      "source": [
        "# **Set Items - Data Types**\n",
        "\n",
        "Set items can be of any data type:"
      ],
      "metadata": {
        "id": "K89FCwaAj6sF"
      }
    },
    {
      "cell_type": "code",
      "source": [
        "# Example\n",
        "# String, int and boolean data types:\n",
        "\n",
        "set1 = {\"apple\", \"banana\", \"cherry\"}\n",
        "set2 = {1, 5, 7, 9, 3}\n",
        "set3 = {True, False, False}"
      ],
      "metadata": {
        "id": "OKUMKfnPkHZF"
      },
      "execution_count": null,
      "outputs": []
    },
    {
      "cell_type": "markdown",
      "source": [
        "**A set can contain different data types:**"
      ],
      "metadata": {
        "id": "w-Zv8Qc-kNEN"
      }
    },
    {
      "cell_type": "code",
      "source": [
        "# Example\n",
        "# A set with strings, integers and boolean values:\n",
        "set1 = {\"abc\", 34, True, 40, \"male\"}"
      ],
      "metadata": {
        "id": "Pax1-u--kRPM"
      },
      "execution_count": null,
      "outputs": []
    },
    {
      "cell_type": "markdown",
      "source": [
        "***type() ***\n",
        "From Python's perspective, sets are defined as objects with the data type 'set':\n",
        "\n",
        "<class 'set'>"
      ],
      "metadata": {
        "id": "QLxVYZ6zkbcE"
      }
    },
    {
      "cell_type": "code",
      "source": [
        "# Example\n",
        "# What is the data type of a set?\n",
        "\n",
        "myset = {\"apple\", \"banana\", \"cherry\"}\n",
        "print(type(myset))"
      ],
      "metadata": {
        "colab": {
          "base_uri": "https://localhost:8080/"
        },
        "id": "0hgxbk6ukhe1",
        "outputId": "99d2c64c-e1fc-4319-dfff-7d674a4383eb"
      },
      "execution_count": null,
      "outputs": [
        {
          "output_type": "stream",
          "name": "stdout",
          "text": [
            "<class 'set'>\n"
          ]
        }
      ]
    },
    {
      "cell_type": "markdown",
      "source": [
        "**The set() Constructor** It is also possible to use the set() constructor to make a set."
      ],
      "metadata": {
        "id": "NUnsYioakmUl"
      }
    },
    {
      "cell_type": "code",
      "source": [
        "# Example\n",
        "# Using the set() constructor to make a set:\n",
        "\n",
        "thisset = set((\"apple\", \"banana\", \"cherry\")) # note the double round-brackets\n",
        "print(thisset)"
      ],
      "metadata": {
        "colab": {
          "base_uri": "https://localhost:8080/"
        },
        "id": "W-eEtCk_kvx9",
        "outputId": "b62ccb8b-393a-4cbb-b063-90e55e0117c5"
      },
      "execution_count": null,
      "outputs": [
        {
          "output_type": "stream",
          "name": "stdout",
          "text": [
            "{'apple', 'cherry', 'banana'}\n"
          ]
        }
      ]
    },
    {
      "cell_type": "markdown",
      "source": [
        "**Mutablility**\n",
        "\n",
        "Once set is created you can add and remove the elements from the set, but you cannot modify the existing elements in a set\n",
        "\n",
        "**In built methods.**\n",
        "* To add the elements\n",
        "\n",
        "**1) add(item)**\n",
        "\n",
        "adds single item to the set"
      ],
      "metadata": {
        "id": "u-EZfv2flcgk"
      }
    },
    {
      "cell_type": "code",
      "source": [
        "set1 = {1,2,3,4,6}\n",
        "# set1\n",
        "set1.add(8)\n",
        "print(set1)"
      ],
      "metadata": {
        "colab": {
          "base_uri": "https://localhost:8080/"
        },
        "id": "_4e_-AIBlpzc",
        "outputId": "7c30aa26-ca47-4914-b05d-f2b53f243ae5"
      },
      "execution_count": null,
      "outputs": [
        {
          "output_type": "stream",
          "name": "stdout",
          "text": [
            "{1, 2, 3, 4, 6, 8}\n"
          ]
        }
      ]
    },
    {
      "cell_type": "markdown",
      "source": [
        "**2) .update(list)**\n",
        "\n",
        "this method is used to add more than one items. All the items should be passed in the form of lists"
      ],
      "metadata": {
        "id": "yF1Z7hoBl2ND"
      }
    },
    {
      "cell_type": "code",
      "source": [
        "set1 = {1,2,3,4,5}\n",
        "set1.update([6,7,8]) # pass list of values to set1\n",
        "print(set1)"
      ],
      "metadata": {
        "colab": {
          "base_uri": "https://localhost:8080/"
        },
        "id": "bwuLXcuDl8A2",
        "outputId": "6bb3d573-c7e4-4996-8374-8cab7be3db88"
      },
      "execution_count": null,
      "outputs": [
        {
          "output_type": "stream",
          "name": "stdout",
          "text": [
            "{1, 2, 3, 4, 5, 6, 7, 8}\n"
          ]
        }
      ]
    },
    {
      "cell_type": "markdown",
      "source": [
        "**3) copy()**\n",
        "\n",
        "to copy a set"
      ],
      "metadata": {
        "id": "4oCrHFfkmH5K"
      }
    },
    {
      "cell_type": "code",
      "source": [
        "set2 = set1.copy()\n",
        "print(set2)"
      ],
      "metadata": {
        "colab": {
          "base_uri": "https://localhost:8080/"
        },
        "id": "QI2TKRMRmQD8",
        "outputId": "db5364d6-7428-4f79-df8e-09fbbe92a571"
      },
      "execution_count": null,
      "outputs": [
        {
          "output_type": "stream",
          "name": "stdout",
          "text": [
            "{1, 2, 3, 4, 5, 6, 7, 8}\n"
          ]
        }
      ]
    },
    {
      "cell_type": "markdown",
      "source": [
        "**To remove the items**\n",
        "\n",
        "**4) remove(item)**\n",
        "\n",
        "removes the specified item from the set. If specified item is not present it will raise error"
      ],
      "metadata": {
        "id": "70REGDRhmYMd"
      }
    },
    {
      "cell_type": "code",
      "source": [
        "set1.remove(1)\n",
        "print(set1)"
      ],
      "metadata": {
        "colab": {
          "base_uri": "https://localhost:8080/"
        },
        "id": "UdK6C31kmlMk",
        "outputId": "de400b3a-3ffb-4367-8cc5-7148309f0fd3"
      },
      "execution_count": null,
      "outputs": [
        {
          "output_type": "stream",
          "name": "stdout",
          "text": [
            "{2, 3, 4, 5, 6, 7, 8}\n"
          ]
        }
      ]
    },
    {
      "cell_type": "markdown",
      "source": [
        "**pop()**\n",
        "\n",
        "Sets are unordered, so when using the pop() method, you will not know which item that gets removed."
      ],
      "metadata": {
        "id": "BfpKAeLDnBF6"
      }
    },
    {
      "cell_type": "code",
      "source": [
        "set1 = {\"a\",1,\"B\",2,3,\"c\",4}\n",
        "set1.pop()"
      ],
      "metadata": {
        "colab": {
          "base_uri": "https://localhost:8080/"
        },
        "id": "XWlL3cmSmwKs",
        "outputId": "ceb5e7dd-2576-4c8e-d009-74049714a9a9"
      },
      "execution_count": null,
      "outputs": [
        {
          "output_type": "execute_result",
          "data": {
            "text/plain": [
              "1"
            ]
          },
          "metadata": {},
          "execution_count": 17
        }
      ]
    },
    {
      "cell_type": "markdown",
      "source": [
        "*** clear()***\n",
        "\n",
        "empties the set"
      ],
      "metadata": {
        "id": "TB1JQXRdnOpV"
      }
    },
    {
      "cell_type": "code",
      "source": [
        "set1.clear()\n",
        "print(set1)"
      ],
      "metadata": {
        "colab": {
          "base_uri": "https://localhost:8080/"
        },
        "id": "6plFUL5CnOCR",
        "outputId": "ee8dcb4c-ff99-450a-d5e7-469f5f0a62ae"
      },
      "execution_count": null,
      "outputs": [
        {
          "output_type": "stream",
          "name": "stdout",
          "text": [
            "set()\n"
          ]
        }
      ]
    }
  ]
}