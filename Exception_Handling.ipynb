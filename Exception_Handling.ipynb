{
  "nbformat": 4,
  "nbformat_minor": 0,
  "metadata": {
    "colab": {
      "name": "Exception Handling.ipynb",
      "provenance": [],
      "authorship_tag": "ABX9TyN07n/f8a4f/wR2TpapQNDc",
      "include_colab_link": true
    },
    "kernelspec": {
      "name": "python3",
      "display_name": "Python 3"
    },
    "language_info": {
      "name": "python"
    }
  },
  "cells": [
    {
      "cell_type": "markdown",
      "metadata": {
        "id": "view-in-github",
        "colab_type": "text"
      },
      "source": [
        "<a href=\"https://colab.research.google.com/github/madhusudhan0211/python/blob/main/Exception_Handling.ipynb\" target=\"_parent\"><img src=\"https://colab.research.google.com/assets/colab-badge.svg\" alt=\"Open In Colab\"/></a>"
      ]
    },
    {
      "cell_type": "markdown",
      "source": [
        "# **Python Try Except**\n",
        "The try block lets you test a block of code for errors.\n",
        "\n",
        "The except block lets you handle the error.\n",
        "\n",
        "The else block lets you execute code when there is no error.\n",
        "\n",
        "The finally block lets you execute code, regardless of the result of the try- and except blocks.\n",
        "\n",
        "# **Exception Handling**\n",
        "When an error occurs, or exception as we call it, Python will normally stop and generate an error message.\n",
        "\n",
        "These exceptions can be handled using the try statement:\n",
        "\n",
        "Example"
      ],
      "metadata": {
        "id": "X_YqULsbnmWY"
      }
    },
    {
      "cell_type": "code",
      "execution_count": null,
      "metadata": {
        "colab": {
          "base_uri": "https://localhost:8080/"
        },
        "id": "P4JxfwmEgXt-",
        "outputId": "ec9264f4-8bb6-4891-9a19-d4d9ac17c268"
      },
      "outputs": [
        {
          "output_type": "stream",
          "name": "stdout",
          "text": [
            "An Exception occured\n"
          ]
        }
      ],
      "source": [
        "#When an error occurs as we call it,Python will normally stop and generate an error messages\n",
        "#These exextions can be handled using the try statement\n",
        "#Example\n",
        "#try\n",
        "try:\n",
        "  print(x)\n",
        "except:\n",
        "  print(\"An Exception occured\") "
      ]
    },
    {
      "cell_type": "markdown",
      "source": [
        "# **ELSE**"
      ],
      "metadata": {
        "id": "n9cTGoNwn6hz"
      }
    },
    {
      "cell_type": "code",
      "source": [
        "#ELSE\n",
        "#You can use the else keyword to define a block of code to be executed if no error.\n",
        "#EXAMPLE\n",
        "#In this example,tghe try block does not generate any error:\n",
        "try:\n",
        "  print(\"Hello Python\")\n",
        "except:\n",
        "  print(\"Something went wrong\")\n",
        "else:\n",
        "  print(\"Nothimg went wrong\")"
      ],
      "metadata": {
        "colab": {
          "base_uri": "https://localhost:8080/"
        },
        "id": "GVooWyz4hipf",
        "outputId": "43e5694b-dc3a-4d31-a60f-627f4742026b"
      },
      "execution_count": null,
      "outputs": [
        {
          "output_type": "stream",
          "name": "stdout",
          "text": [
            "Hello Python\n",
            "Nothimg went wrong\n"
          ]
        }
      ]
    },
    {
      "cell_type": "markdown",
      "source": [
        "# **Finally**\n",
        "\n",
        "The finally block, if specified, will be executed regardless if the try block raises an error or not."
      ],
      "metadata": {
        "id": "oIDfmq87oBcs"
      }
    },
    {
      "cell_type": "code",
      "source": [
        "#Finally\n",
        "#The finally block,if specified,will be executed regardless if the try block an error or not\n",
        "#Example\n",
        "try:\n",
        "  print(x)\n",
        "except:\n",
        "  print(\"Something went wrong\")\n",
        "finally: \n",
        "  print(\"The 'try except' is finished\")\n"
      ],
      "metadata": {
        "colab": {
          "base_uri": "https://localhost:8080/"
        },
        "id": "qx9lcxgsipfb",
        "outputId": "8894a87b-c339-41b4-fddb-9ad3fdb564cd"
      },
      "execution_count": null,
      "outputs": [
        {
          "output_type": "stream",
          "name": "stdout",
          "text": [
            "Something went wrong\n",
            "The 'try except' is finished\n"
          ]
        }
      ]
    }
  ]
}