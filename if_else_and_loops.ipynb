{
  "cells": [
    {
      "cell_type": "markdown",
      "metadata": {
        "id": "view-in-github",
        "colab_type": "text"
      },
      "source": [
        "<a href=\"https://colab.research.google.com/github/madhusudhan0211/python/blob/main/if_else_and_loops.ipynb\" target=\"_parent\"><img src=\"https://colab.research.google.com/assets/colab-badge.svg\" alt=\"Open In Colab\"/></a>"
      ]
    },
    {
      "cell_type": "markdown",
      "source": [
        "**ASSIGNMENTS**"
      ],
      "metadata": {
        "id": "O6CXpctzgibx"
      }
    },
    {
      "cell_type": "code",
      "execution_count": null,
      "metadata": {
        "colab": {
          "base_uri": "https://localhost:8080/"
        },
        "id": "QMlZ0vvc-ar5",
        "outputId": "8f5d1fec-6002-4b70-c765-e5894fd29486"
      },
      "outputs": [
        {
          "output_type": "stream",
          "name": "stdout",
          "text": [
            "hello netzwerk academy\n"
          ]
        }
      ],
      "source": [
        "#1. Print \"hello netzwerk Academy \" if a is gretaer than b .\n",
        "a=10\n",
        "b=5\n",
        "if a>b:\n",
        "  print(\"hello netzwerk academy\")"
      ]
    },
    {
      "cell_type": "code",
      "execution_count": null,
      "metadata": {
        "colab": {
          "base_uri": "https://localhost:8080/"
        },
        "id": "aUCVWj34-7QD",
        "outputId": "b3333293-cf03-4af4-f03f-7b335147826b"
      },
      "outputs": [
        {
          "name": "stdout",
          "output_type": "stream",
          "text": [
            "hello netzwerk academy\n"
          ]
        }
      ],
      "source": [
        "#2. Print \"Hello netzwerk academy\" if a is not equal to b.\n",
        "a = 1\n",
        "b = 0\n",
        "if b>a:\n",
        "  print(\"b graeter than a\")\n",
        "elif a==b:\n",
        "  print(\"a equal to b\")\n",
        "else:\n",
        "  print(\"hello netzwerk academy\")  "
      ]
    },
    {
      "cell_type": "code",
      "execution_count": null,
      "metadata": {
        "colab": {
          "base_uri": "https://localhost:8080/"
        },
        "id": "u5vJWbzWYw7F",
        "outputId": "def3cc1c-2376-4624-faae-a9cc1460295c"
      },
      "outputs": [
        {
          "name": "stdout",
          "output_type": "stream",
          "text": [
            "yes\n"
          ]
        }
      ],
      "source": [
        "#3. Print \"yes\" if a is equal to b , otherwise \"No\"\n",
        "a = 1\n",
        "b = 1\n",
        "if a>b:\n",
        "  print(\"a is greater than b\")\n",
        "else:\n",
        "    print(\"yes\")"
      ]
    },
    {
      "cell_type": "code",
      "execution_count": null,
      "metadata": {
        "colab": {
          "base_uri": "https://localhost:8080/"
        },
        "id": "8Um3SFFoaike",
        "outputId": "14a91775-7fa4-44ef-f8c6-22af1c9f6f11"
      },
      "outputs": [
        {
          "name": "stdout",
          "output_type": "stream",
          "text": [
            "3\n"
          ]
        }
      ],
      "source": [
        "#4. Print \"1\" if a is equal to b, print \"2\" if a greater than b,otherwise print \"3\".\n",
        "a = 1\n",
        "b = 2\n",
        "if a>b:\n",
        "  print(\"2\")\n",
        "elif a==b:\n",
        "  print(\"1\")\n",
        "else:\n",
        "  print(\"3\")  "
      ]
    },
    {
      "cell_type": "code",
      "execution_count": null,
      "metadata": {
        "colab": {
          "base_uri": "https://localhost:8080/"
        },
        "id": "m24C2Xr8bUg_",
        "outputId": "e8a98f28-45fa-4951-a3ff-6f4cfec85691"
      },
      "outputs": [
        {
          "name": "stdout",
          "output_type": "stream",
          "text": [
            "hello\n"
          ]
        }
      ],
      "source": [
        "#5. Print \"Hello\" if a is equal to b, and c is equal to d.\n",
        "a = 5\n",
        "b = 5\n",
        "c = 6\n",
        "d = 6\n",
        "if a == b and c == d:\n",
        " print(\"hello\")"
      ]
    },
    {
      "cell_type": "code",
      "execution_count": null,
      "metadata": {
        "colab": {
          "base_uri": "https://localhost:8080/"
        },
        "id": "UD1bImIgcMeR",
        "outputId": "fd2dfd4e-db67-44dd-db98-e9b27ff27f8f"
      },
      "outputs": [
        {
          "name": "stdout",
          "output_type": "stream",
          "text": [
            "Hello\n"
          ]
        }
      ],
      "source": [
        "#6. Print \"Hello\" if a is equal to b, or if c is equal to d.\n",
        "a == 5\n",
        "b == 5\n",
        "c == 6\n",
        "d == 6\n",
        "if a == b or c == d:\n",
        "  print(\"Hello\")"
      ]
    },
    {
      "cell_type": "code",
      "execution_count": null,
      "metadata": {
        "colab": {
          "base_uri": "https://localhost:8080/"
        },
        "id": "aSc78jlKcvEU",
        "outputId": "1d56653d-29a3-4559-85dd-4959b373d8d1"
      },
      "outputs": [
        {
          "name": "stdout",
          "output_type": "stream",
          "text": [
            "1\n",
            "2\n",
            "3\n",
            "4\n",
            "5\n",
            "6\n",
            "7\n"
          ]
        }
      ],
      "source": [
        "#7. Print i as long as i is less than 8.\n",
        "i = 1\n",
        "while i < 8:\n",
        "  print(i)\n",
        "  i += 1"
      ]
    },
    {
      "cell_type": "code",
      "execution_count": null,
      "metadata": {
        "colab": {
          "base_uri": "https://localhost:8080/"
        },
        "id": "x9Sh_Y20dGxk",
        "outputId": "5d911ea8-0482-4fa5-f2e4-e37f133f4d41"
      },
      "outputs": [
        {
          "name": "stdout",
          "output_type": "stream",
          "text": [
            "apple\n",
            "banana\n",
            "mango\n"
          ]
        }
      ],
      "source": [
        "#8. Loop through the items in the fruits list. fruits=[\"apple\",\"banana\",\"mango\"]\n",
        "fruits = [\"apple\", \"banana\",\"mango\"]\n",
        "for x in fruits:\n",
        "  print(x)"
      ]
    },
    {
      "cell_type": "code",
      "execution_count": 7,
      "metadata": {
        "id": "XnBXjJqkeGbb",
        "colab": {
          "base_uri": "https://localhost:8080/"
        },
        "outputId": "9fc8ea4e-a3c7-4162-9077-058060426af7"
      },
      "outputs": [
        {
          "output_type": "stream",
          "name": "stdout",
          "text": [
            "mango\n"
          ]
        }
      ],
      "source": [
        "#9. In the loop , when the item value is \"banana\", jump directly to the next item.fruits = [\"apple\",\"banana\",\"mango\"]\n",
        "fruits = [\"apple\",\"banana\",\"mango\"]\n",
        "for x in fruits:\n",
        "  if x == \"banana\":\n",
        "    continue\n",
        "print(x)"
      ]
    },
    {
      "cell_type": "code",
      "execution_count": 5,
      "metadata": {
        "id": "651rgn2lY87z",
        "colab": {
          "base_uri": "https://localhost:8080/"
        },
        "outputId": "32cecc14-e930-4df3-a2fd-b5ca228f7e4c"
      },
      "outputs": [
        {
          "output_type": "stream",
          "name": "stdout",
          "text": [
            "apple\n"
          ]
        }
      ],
      "source": [
        "#10. Exit the loop when x is \"banana\". frits = [\"apple\", \"banana\",\"mango\"]\n",
        "fruits = [\"apple\", \"banana\" , \"mango\"]\n",
        "for x in fruits:\n",
        " if x == \"banana\":\n",
        "    break\n",
        " print(x)"
      ]
    }
  ],
  "metadata": {
    "colab": {
      "collapsed_sections": [],
      "name": "if else and loops.ipynb",
      "provenance": [],
      "authorship_tag": "ABX9TyOEDg7xWqLCEOmqYuQ7O+0u",
      "include_colab_link": true
    },
    "kernelspec": {
      "display_name": "Python 3",
      "name": "python3"
    },
    "language_info": {
      "name": "python"
    }
  },
  "nbformat": 4,
  "nbformat_minor": 0
}