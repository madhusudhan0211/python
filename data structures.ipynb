{
 "cells": [
  {
   "cell_type": "code",
   "execution_count": 3,
   "id": "11567fe3",
   "metadata": {},
   "outputs": [
    {
     "name": "stdout",
     "output_type": "stream",
     "text": [
      "5\n",
      "<class 'list'>\n"
     ]
    }
   ],
   "source": [
    "mydata1 = [\"Mango\",True,7,8,9]\n",
    "print(len(mydata1))\n",
    "print(type(mydata1))"
   ]
  },
  {
   "cell_type": "code",
   "execution_count": 5,
   "id": "6aaf62ea",
   "metadata": {},
   "outputs": [
    {
     "name": "stdout",
     "output_type": "stream",
     "text": [
      "5\n",
      "<class 'list'>\n"
     ]
    }
   ],
   "source": [
    "mydata2 = [1,5,7,9,3]\n",
    "print(len(mydata2))\n",
    "print(type(mydata2))"
   ]
  },
  {
   "cell_type": "code",
   "execution_count": 7,
   "id": "69866346",
   "metadata": {},
   "outputs": [
    {
     "name": "stdout",
     "output_type": "stream",
     "text": [
      "4\n",
      "<class 'tuple'>\n"
     ]
    }
   ],
   "source": [
    "mydata3 = (\"Mango\",700,1000,\"Banana\")\n",
    "print(len(mydata3))\n",
    "print(type(mydata3))\n"
   ]
  },
  {
   "cell_type": "code",
   "execution_count": 8,
   "id": "84c2d38a",
   "metadata": {
    "scrolled": false
   },
   "outputs": [
    {
     "name": "stdout",
     "output_type": "stream",
     "text": [
      "2\n",
      "<class 'set'>\n"
     ]
    }
   ],
   "source": [
    "mydata4 = {True,False,False}\n",
    "print(len(mydata4))\n",
    "print(type(mydata4))"
   ]
  },
  {
   "cell_type": "code",
   "execution_count": 9,
   "id": "0e777ca8",
   "metadata": {},
   "outputs": [
    {
     "name": "stdout",
     "output_type": "stream",
     "text": [
      "4\n"
     ]
    }
   ],
   "source": [
    "mylist=[100,True,50.5,\"Rahul\"]\n",
    "print(len(mylist))"
   ]
  },
  {
   "cell_type": "code",
   "execution_count": 9,
   "id": "92f75efd",
   "metadata": {},
   "outputs": [
    {
     "name": "stdout",
     "output_type": "stream",
     "text": [
      "{'Employee id': '100041', 'Employee name': 'Rohan', 'Country': 'India'}\n"
     ]
    }
   ],
   "source": [
    "Employee = {\"Employee id\":\"100041\",\"Employee name\":\"Rohan\",\"Country\":\"India\"}\n",
    "print(Employee)"
   ]
  },
  {
   "cell_type": "code",
   "execution_count": 2,
   "id": "9baf8ec1",
   "metadata": {},
   "outputs": [
    {
     "name": "stdout",
     "output_type": "stream",
     "text": [
      "Madhusudhanis my name\n"
     ]
    }
   ],
   "source": [
    "def myname(fname):\n",
    "    print(fname+\"\"+\"is my name\")\n",
    "myname(\"Madhusudhan\")\n",
    "    "
   ]
  },
  {
   "cell_type": "code",
   "execution_count": 5,
   "id": "1effae95",
   "metadata": {},
   "outputs": [
    {
     "name": "stdout",
     "output_type": "stream",
     "text": [
      "Raichur Karnataka\n"
     ]
    }
   ],
   "source": [
    "def myfunction(city,state):\n",
    "    print(city+ \" \" +state)\n",
    "myfunction(\"Raichur\",\"Karnataka\")"
   ]
  }
 ],
 "metadata": {
  "kernelspec": {
   "display_name": "Python 3 (ipykernel)",
   "language": "python",
   "name": "python3"
  },
  "language_info": {
   "codemirror_mode": {
    "name": "ipython",
    "version": 3
   },
   "file_extension": ".py",
   "mimetype": "text/x-python",
   "name": "python",
   "nbconvert_exporter": "python",
   "pygments_lexer": "ipython3",
   "version": "3.9.7"
  }
 },
 "nbformat": 4,
 "nbformat_minor": 5
}
