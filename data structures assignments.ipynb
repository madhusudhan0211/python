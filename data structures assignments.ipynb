{
 "cells": [
  {
   "cell_type": "code",
   "execution_count": 4,
   "id": "ce9d7545",
   "metadata": {},
   "outputs": [
    {
     "name": "stdout",
     "output_type": "stream",
     "text": [
      "5\n",
      "<class 'list'>\n"
     ]
    }
   ],
   "source": [
    "#1.Check the length and data types of the following\n",
    "#a)mydata1 = [“Mango”, True ,7,8,9]\n",
    "mydata1 = [\"Mango\",True,7,8,9]\n",
    "print(len(mydata1))\n",
    "print(type(mydata1))"
   ]
  },
  {
   "cell_type": "code",
   "execution_count": 7,
   "id": "4db53f41",
   "metadata": {},
   "outputs": [
    {
     "name": "stdout",
     "output_type": "stream",
     "text": [
      "5\n",
      "<class 'list'>\n"
     ]
    }
   ],
   "source": [
    "#b)mydata2 = [1,5,7,9,3]\n",
    "mydata2 = [1,5,7,9,3]\n",
    "print(len(mydata2))\n",
    "print(type(mydata2))"
   ]
  },
  {
   "cell_type": "code",
   "execution_count": 7,
   "id": "69866346",
   "metadata": {},
   "outputs": [
    {
     "name": "stdout",
     "output_type": "stream",
     "text": [
      "4\n",
      "<class 'tuple'>\n"
     ]
    }
   ],
   "source": [
    "#c)mydata3 = (“Mango”,700,1000,”Banana”)\n",
    "mydata3 = (\"Mango\",700,1000,\"Banana\")\n",
    "print(len(mydata3))\n",
    "print(type(mydata3))\n"
   ]
  },
  {
   "cell_type": "code",
   "execution_count": 8,
   "id": "84c2d38a",
   "metadata": {
    "scrolled": false
   },
   "outputs": [
    {
     "name": "stdout",
     "output_type": "stream",
     "text": [
      "2\n",
      "<class 'set'>\n"
     ]
    }
   ],
   "source": [
    "#d)mydata4 = {True, False, False}\n",
    "mydata4 = {True,False,False}\n",
    "print(len(mydata4))\n",
    "print(type(mydata4))"
   ]
  },
  {
   "cell_type": "code",
   "execution_count": 9,
   "id": "0e777ca8",
   "metadata": {},
   "outputs": [
    {
     "name": "stdout",
     "output_type": "stream",
     "text": [
      "4\n"
     ]
    }
   ],
   "source": [
    "#2)Create and print a list containing 4 elements of different data types and check the length of the list.\n",
    "mylist=[100,True,50.5,\"Rahul\"]\n",
    "print(len(mylist))"
   ]
  },
  {
   "cell_type": "code",
   "execution_count": 5,
   "id": "92f75efd",
   "metadata": {},
   "outputs": [
    {
     "name": "stdout",
     "output_type": "stream",
     "text": [
      "{'Employee id': '100041', 'Employee name': 'Rohan', 'Country': 'India'}\n"
     ]
    }
   ],
   "source": [
    "#3)Create and print a dictionary containing the following values:\n",
    "#“Employee id”:”100041”,\n",
    "#“Employee name ” :” Rohan”,\n",
    "#“Country ”:” India”\n",
    "Employee = {\"Employee id\":\"100041\",\"Employee name\":\"Rohan\",\"Country\":\"India\"}\n",
    "print(Employee)"
   ]
  }
 ],
 "metadata": {
  "kernelspec": {
   "display_name": "Python 3 (ipykernel)",
   "language": "python",
   "name": "python3"
  },
  "language_info": {
   "codemirror_mode": {
    "name": "ipython",
    "version": 3
   },
   "file_extension": ".py",
   "mimetype": "text/x-python",
   "name": "python",
   "nbconvert_exporter": "python",
   "pygments_lexer": "ipython3",
   "version": "3.9.7"
  }
 },
 "nbformat": 4,
 "nbformat_minor": 5
}
