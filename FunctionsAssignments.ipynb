{
  "nbformat": 4,
  "nbformat_minor": 0,
  "metadata": {
    "colab": {
      "name": "Functions.ipynb",
      "provenance": [],
      "collapsed_sections": [],
      "authorship_tag": "ABX9TyPIRcCCM978VJucC0obzjk/",
      "include_colab_link": true
    },
    "kernelspec": {
      "name": "python3",
      "display_name": "Python 3"
    },
    "language_info": {
      "name": "python"
    }
  },
  "cells": [
    {
      "cell_type": "markdown",
      "metadata": {
        "id": "view-in-github",
        "colab_type": "text"
      },
      "source": [
        "<a href=\"https://colab.research.google.com/github/madhusudhan0211/python/blob/main/Functions.ipynb\" target=\"_parent\"><img src=\"https://colab.research.google.com/assets/colab-badge.svg\" alt=\"Open In Colab\"/></a>"
      ]
    },
    {
      "cell_type": "markdown",
      "source": [
        "# **#Python functions**"
      ],
      "metadata": {
        "id": "oDq-vj5UJrhi"
      }
    },
    {
      "cell_type": "code",
      "source": [
        "#Creating a function\n",
        "#In python a function is defined using the def keyword\n",
        "#example\n",
        "def my_function():\n",
        "    print(\"hello python\")"
      ],
      "metadata": {
        "id": "K19ByeKfJz6Y"
      },
      "execution_count": 8,
      "outputs": []
    },
    {
      "cell_type": "code",
      "source": [
        "#Calling a function\n",
        "def my_function():\n",
        " print(\"hello python\")\n",
        "my_function()"
      ],
      "metadata": {
        "colab": {
          "base_uri": "https://localhost:8080/"
        },
        "id": "OU-huRUMKV4n",
        "outputId": "8771a3e2-7cf6-4634-bb45-6ded0ecadae5"
      },
      "execution_count": 9,
      "outputs": [
        {
          "output_type": "stream",
          "name": "stdout",
          "text": [
            "hello python\n"
          ]
        }
      ]
    },
    {
      "cell_type": "code",
      "source": [
        "#Arguments\n",
        "def my_function(fname):\n",
        "  print(fname + \" is my name\")\n",
        "my_function(\"Madhu\")"
      ],
      "metadata": {
        "colab": {
          "base_uri": "https://localhost:8080/"
        },
        "id": "u_F6XxtWK6jy",
        "outputId": "6bd9921b-b9ef-4974-cfac-0f7c45f26c2f"
      },
      "execution_count": 16,
      "outputs": [
        {
          "output_type": "stream",
          "name": "stdout",
          "text": [
            "Madhu is my name\n"
          ]
        }
      ]
    },
    {
      "cell_type": "code",
      "source": [
        "#Functions with two argumnets and gets two arguments\n",
        "def my_function(fname,lname):\n",
        "  print(fname+\"\"+lname)\n",
        "my_function(\"madhu\",\"sudhan\")"
      ],
      "metadata": {
        "colab": {
          "base_uri": "https://localhost:8080/"
        },
        "id": "5F2yt6xIMCz1",
        "outputId": "ec0431e2-860d-412d-8ed4-3b287aad5c7e"
      },
      "execution_count": 18,
      "outputs": [
        {
          "output_type": "stream",
          "name": "stdout",
          "text": [
            "madhusudhan\n"
          ]
        }
      ]
    },
    {
      "cell_type": "code",
      "source": [
        "#Arbitary arguments,*Args\n",
        "def my_function(*kids):\n",
        "  print(\"The youngest child is\" + kids[2])\n",
        "my_function(\"GOvardhan\",\"Laxman\",\"shivu\")\n"
      ],
      "metadata": {
        "colab": {
          "base_uri": "https://localhost:8080/"
        },
        "id": "3HGT3v5oNXnq",
        "outputId": "a0ef35d8-a8b7-49b4-9578-e25f912d85ba"
      },
      "execution_count": 26,
      "outputs": [
        {
          "output_type": "stream",
          "name": "stdout",
          "text": [
            "The youngest child isshivu\n"
          ]
        }
      ]
    },
    {
      "cell_type": "code",
      "source": [
        "#Keywords arguments\n",
        "def my_function(child3,child2,child1):\n",
        "  print(\"The youngest child is \" + child3)\n",
        "my_function(child1=\"shivu\",child2=\"Madhu\",child3=\"Gova\")\n"
      ],
      "metadata": {
        "colab": {
          "base_uri": "https://localhost:8080/"
        },
        "id": "vcGiJCJYPNSa",
        "outputId": "26349067-1ea2-4f6d-9472-e4ae840b132f"
      },
      "execution_count": 27,
      "outputs": [
        {
          "output_type": "stream",
          "name": "stdout",
          "text": [
            "The youngest child is Gova\n"
          ]
        }
      ]
    },
    {
      "cell_type": "code",
      "source": [
        "#Default parameter value\n",
        "def my_function(country=\"Norway\"):\n",
        " print(\"I am from\"+\" \" + country)\n",
        "my_function(\"Sweden\")\n",
        "my_function(\"India\")\n",
        "my_function()"
      ],
      "metadata": {
        "colab": {
          "base_uri": "https://localhost:8080/"
        },
        "id": "VDnNHtiqQIOL",
        "outputId": "f4b2dccc-cf57-4d99-e7b8-f9559931d318"
      },
      "execution_count": 30,
      "outputs": [
        {
          "output_type": "stream",
          "name": "stdout",
          "text": [
            "I am from Sweden\n",
            "I am from India\n",
            "I am from Norway\n"
          ]
        }
      ]
    },
    {
      "cell_type": "code",
      "source": [
        "#Passing a list as an arguments\n",
        "def my_function(a):\n",
        "  for x in a:\n",
        "    print(x)\n",
        "fruits=[\"sapota\",\"Apple\",\"Mango\"]\n",
        "my_function(fruits)\n"
      ],
      "metadata": {
        "colab": {
          "base_uri": "https://localhost:8080/"
        },
        "id": "du2H_duNRQqJ",
        "outputId": "20231472-cdc2-4ec1-966a-8415c54aac8f"
      },
      "execution_count": 34,
      "outputs": [
        {
          "output_type": "stream",
          "name": "stdout",
          "text": [
            "sapota\n",
            "Apple\n",
            "Mango\n"
          ]
        }
      ]
    }
  ]
}
