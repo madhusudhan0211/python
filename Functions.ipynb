{
  "nbformat": 4,
  "nbformat_minor": 0,
  "metadata": {
    "colab": {
      "name": "Functions.ipynb",
      "provenance": [],
      "collapsed_sections": [],
      "authorship_tag": "ABX9TyOEUgXQ75zv/3owJNFhWv75",
      "include_colab_link": true
    },
    "kernelspec": {
      "name": "python3",
      "display_name": "Python 3"
    },
    "language_info": {
      "name": "python"
    }
  },
  "cells": [
    {
      "cell_type": "markdown",
      "metadata": {
        "id": "view-in-github",
        "colab_type": "text"
      },
      "source": [
        "<a href=\"https://colab.research.google.com/github/madhusudhan0211/python/blob/main/Functions.ipynb\" target=\"_parent\"><img src=\"https://colab.research.google.com/assets/colab-badge.svg\" alt=\"Open In Colab\"/></a>"
      ]
    },
    {
      "cell_type": "markdown",
      "source": [
        "## **PYTHON** **FUNCTIONS**\n",
        "\n",
        "\n",
        "* A Function is a block of code which only runs when it is called.\n",
        "\n",
        "\n",
        "*   You can pass data,known as parameter, into a function.\n",
        "*   A function can return data as a result.\n",
        "\n",
        "\n",
        "\n",
        "\n",
        "\n",
        "\n"
      ],
      "metadata": {
        "id": "f53uVufXPe4j"
      }
    },
    {
      "cell_type": "code",
      "execution_count": null,
      "metadata": {
        "id": "RYFgyV5JOikY"
      },
      "outputs": [],
      "source": [
        "#Creating a function \n",
        "#In python a function is defined using def keyword:\n",
        "#Example\n",
        "def my_function():\n",
        "  print(\"hello world\")"
      ]
    },
    {
      "cell_type": "markdown",
      "source": [
        "# **Calling a function**\n",
        "To call a function, use the function name followed by parenthesis:"
      ],
      "metadata": {
        "id": "afPi_P4ZQwTm"
      }
    },
    {
      "cell_type": "code",
      "source": [
        "#Example \n",
        "def my_function():\n",
        "  print(\"hello world\")\n",
        "my_function()"
      ],
      "metadata": {
        "colab": {
          "base_uri": "https://localhost:8080/"
        },
        "id": "1WkZWp4kPXzz",
        "outputId": "ee0d3572-2e5a-4038-d8d5-cb343bdbb3d8"
      },
      "execution_count": null,
      "outputs": [
        {
          "output_type": "stream",
          "name": "stdout",
          "text": [
            "hello world\n"
          ]
        }
      ]
    },
    {
      "cell_type": "markdown",
      "source": [
        "# **Arguments**\n",
        "\n",
        "\n",
        "*   Information can be passed into a function as arguments\n",
        "*   Aruguments are specified after the function name,inside the parameters.you can add as many aruguments as you want,just seperate them with a comma.\n",
        "\n",
        "\n",
        "*   The following example has a function with one argument(fname).When the function is called,we pass along a first name,which is used inside the function to print the full name\n",
        "\n",
        "\n",
        "\n",
        "\n"
      ],
      "metadata": {
        "id": "Ffk1-GcYReFs"
      }
    },
    {
      "cell_type": "code",
      "source": [
        "#Example:\n",
        "def my_function(fname):\n",
        "  print(fname+\" \" \"is my name\")\n",
        "my_function(\"Madhusudhan\")\n",
        "my_function(\"Rohit\")\n",
        "my_function(\"Babu\")\n"
      ],
      "metadata": {
        "colab": {
          "base_uri": "https://localhost:8080/"
        },
        "id": "9ksJpKQRTXnk",
        "outputId": "a05f26a3-f8f9-41fa-c12a-8971f565fcc4"
      },
      "execution_count": null,
      "outputs": [
        {
          "output_type": "stream",
          "name": "stdout",
          "text": [
            "Madhusudhan is my name\n",
            "Rohit is my name\n",
            "Babu is my name\n"
          ]
        }
      ]
    },
    {
      "cell_type": "markdown",
      "source": [
        "# **Parameters or Arguments**\n",
        "The terms parameters and arguments can be used for same thing:information that are passed into a function.\n",
        "A parameter is the variable listed inside the parenthesis in the function definition. An argument is the value that are sent to the function when it is called.\n"
      ],
      "metadata": {
        "id": "IYS-XxudUKYD"
      }
    },
    {
      "cell_type": "markdown",
      "source": [
        "# **Number of arguments**\n",
        "By Default, a function must be called with the correct number of arguments.Meaning that if your function excpets 2 arguments,you have to call the function with 2 arguments,not more and not less.\n"
      ],
      "metadata": {
        "id": "LYsRZERlWAzq"
      }
    },
    {
      "cell_type": "code",
      "source": [
        "#Example \n",
        "#This function expects 2 arguments, and gets 2 arguments\n",
        "def my_function(fname,lname):\n",
        "  print(fname+\" \"+lname)\n",
        "my_function(\"HEllo\",\"Python\")"
      ],
      "metadata": {
        "colab": {
          "base_uri": "https://localhost:8080/"
        },
        "id": "pIbCEXqVV9-y",
        "outputId": "c040926f-710e-42c8-c88c-4bf2001e5737"
      },
      "execution_count": null,
      "outputs": [
        {
          "output_type": "stream",
          "name": "stdout",
          "text": [
            "HEllo Python\n"
          ]
        }
      ]
    },
    {
      "cell_type": "markdown",
      "source": [
        "# **Arbitrary arguments,*args**\n",
        "\n",
        "\n",
        "*   If you do not know how many argumrnts that will be passed into your function,add a * before the parameter name in the function definition.\n",
        "*   This way the function will recive a tuple of arguments and can access the items accordingly.\n",
        "\n",
        "\n",
        "\n"
      ],
      "metadata": {
        "id": "rGA7z_x-X6Ir"
      }
    },
    {
      "cell_type": "code",
      "source": [
        "#Example \n",
        "#If the number of arguments is unkown, add a * before the parameter name:\n",
        "def my_function(*subjects):\n",
        "  print(\"The fav subject is\" \" \"+subjects[2])\n",
        "my_function(\"Physics\",\"Chemistry\",\"Maths\")\n"
      ],
      "metadata": {
        "colab": {
          "base_uri": "https://localhost:8080/"
        },
        "id": "mH_sI2vCaGp8",
        "outputId": "656604fa-1b66-4715-8d74-b2240ff87585"
      },
      "execution_count": null,
      "outputs": [
        {
          "output_type": "stream",
          "name": "stdout",
          "text": [
            "The fav subject is Maths\n"
          ]
        }
      ]
    },
    {
      "cell_type": "markdown",
      "source": [
        "# **Keyword Arguments**\n",
        "You can also send arguments with the key=value syntax.This way the order of the arguments does not matter.\n"
      ],
      "metadata": {
        "id": "KMaf2NVebVGY"
      }
    },
    {
      "cell_type": "code",
      "source": [
        "#Example \n",
        "def my_function(child3,child2,child1):\n",
        "  print(\"The youngest child is\" \" \" +child2)\n",
        "my_function(child1=\"Email\",child2=\"windows\",child3=\"Linus\")"
      ],
      "metadata": {
        "colab": {
          "base_uri": "https://localhost:8080/"
        },
        "id": "jFM1VtOhcSDc",
        "outputId": "ed437189-7d1d-46c9-b546-438721aa3307"
      },
      "execution_count": null,
      "outputs": [
        {
          "output_type": "stream",
          "name": "stdout",
          "text": [
            "The youngest child is windows\n"
          ]
        }
      ]
    },
    {
      "cell_type": "markdown",
      "source": [
        "# **Default parameter value**\n",
        "\n",
        "\n",
        "*   The following examples shows how to use a default parameter value.\n",
        "*   If we call the function without argument,it uses the default value:\n",
        "\n"
      ],
      "metadata": {
        "id": "nwX-u8LVeOph"
      }
    },
    {
      "cell_type": "code",
      "source": [
        "#Example\n",
        "def my_function(country=\"Norway\"):\n",
        "  print(\"i am from\" \" \"+country)\n",
        "my_function(\"sweden\")\n",
        "my_function(\"India\")\n",
        "my_function()\n",
        "my_function(\"Brazil\")"
      ],
      "metadata": {
        "colab": {
          "base_uri": "https://localhost:8080/"
        },
        "id": "YzImEqLDfpMm",
        "outputId": "213b694d-67f6-464a-c914-593140b9f542"
      },
      "execution_count": null,
      "outputs": [
        {
          "output_type": "stream",
          "name": "stdout",
          "text": [
            "i am from sweden\n",
            "i am from India\n",
            "i am from Norway\n",
            "i am from Brazil\n"
          ]
        }
      ]
    },
    {
      "cell_type": "markdown",
      "source": [
        "# **Passing a list as an argument**\n",
        "You can send any data types of arguments to a function(string,number,list,dictionary etc). and it will be trated as the same data type inside the function.\n",
        "E.g. If you send a list as an arguments,it will still be a list when it reaches the function:"
      ],
      "metadata": {
        "id": "Nke5qR06hrTw"
      }
    },
    {
      "cell_type": "code",
      "source": [
        "#Example \n",
        "def my_function(a):\n",
        "  for x in a:\n",
        "    print(x)\n",
        "fruits=[\"apple\",\"banana\",\"cherry\"]\n",
        "my_function(fruits)"
      ],
      "metadata": {
        "colab": {
          "base_uri": "https://localhost:8080/"
        },
        "id": "BtcUEh6KjnUZ",
        "outputId": "ba1296fc-eb8e-4c93-c98f-b0d33968185c"
      },
      "execution_count": null,
      "outputs": [
        {
          "output_type": "stream",
          "name": "stdout",
          "text": [
            "apple\n",
            "banana\n",
            "cherry\n"
          ]
        }
      ]
    },
    {
      "cell_type": "markdown",
      "source": [
        "# **Return values**\n",
        "To let a function return a value use the return statement:\n"
      ],
      "metadata": {
        "id": "gEWnpxt3k0tH"
      }
    },
    {
      "cell_type": "code",
      "source": [
        "#Example \n",
        "def my_function(x):\n",
        " return 5*x\n",
        "print(my_function(3))\n",
        "print(my_function(5))\n",
        "print(my_function(9))"
      ],
      "metadata": {
        "colab": {
          "base_uri": "https://localhost:8080/"
        },
        "id": "M67znGc7mKr7",
        "outputId": "b07c3373-32be-49b1-9a88-76260ddac38f"
      },
      "execution_count": null,
      "outputs": [
        {
          "output_type": "stream",
          "name": "stdout",
          "text": [
            "15\n",
            "25\n",
            "45\n"
          ]
        }
      ]
    },
    {
      "cell_type": "markdown",
      "source": [
        "# **Recursion**\n",
        "\n",
        "\n",
        "*   Python also accepts function recursion,which means a defined function can call itself.\n",
        "*   Recursion is a common mathematical and programming concept.It means that a function calls itself.\n"
      ],
      "metadata": {
        "id": "a5UOW32NnRVv"
      }
    },
    {
      "cell_type": "code",
      "source": [
        "#Example \n",
        "#Recursion example\n",
        "# Printing Hello for 5 times using recursion\n",
        "def my_func(num):\n",
        "    num = num + 1\n",
        "    if(num>5):\n",
        "        return\n",
        "    else:\n",
        "        print(\"Hello\")\n",
        "        my_func(num)\n",
        "my_func(0)\n"
      ],
      "metadata": {
        "colab": {
          "base_uri": "https://localhost:8080/"
        },
        "id": "Fxoz6sSYoKgu",
        "outputId": "194d0e3c-4ad4-4735-fa0a-284464abd8f9"
      },
      "execution_count": 7,
      "outputs": [
        {
          "output_type": "stream",
          "name": "stdout",
          "text": [
            "Hello\n",
            "Hello\n",
            "Hello\n",
            "Hello\n",
            "Hello\n"
          ]
        }
      ]
    }
  ]
}