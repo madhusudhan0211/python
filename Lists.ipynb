{
  "nbformat": 4,
  "nbformat_minor": 0,
  "metadata": {
    "colab": {
      "name": "Lists.ipynb",
      "provenance": [],
      "collapsed_sections": [],
      "authorship_tag": "ABX9TyPEAGhV3yX2HHsypV0KEdKw",
      "include_colab_link": true
    },
    "kernelspec": {
      "name": "python3",
      "display_name": "Python 3"
    },
    "language_info": {
      "name": "python"
    }
  },
  "cells": [
    {
      "cell_type": "markdown",
      "metadata": {
        "id": "view-in-github",
        "colab_type": "text"
      },
      "source": [
        "<a href=\"https://colab.research.google.com/github/madhusudhan0211/python/blob/main/Lists.ipynb\" target=\"_parent\"><img src=\"https://colab.research.google.com/assets/colab-badge.svg\" alt=\"Open In Colab\"/></a>"
      ]
    },
    {
      "cell_type": "markdown",
      "source": [
        "# **Python Lists**\n",
        "\n",
        "mylist = [\"apple\", \"banana\", \"cherry\"] List Lists are used to store multiple items in a single variable.\n",
        "\n",
        "Lists are one of 4 built-in data types in Python used to store collections of data, the other 3 are Tuple, Set, and Dictionary, all with different qualities and usage.\n",
        "\n",
        "Lists are created using square brackets:\n",
        "\n",
        "\n",
        "\n",
        "  **Important properties of lists**\n",
        "  \n",
        "Can store different data types\n",
        "\n",
        "\n",
        "Duplicate values are allowed\n",
        "\n",
        "Order is retained\n",
        "\n",
        "Indexing and slicing is possible\n",
        "\n",
        "Mutable\n",
        "\n"
      ],
      "metadata": {
        "id": "Zv4GDUFVV69O"
      }
    },
    {
      "cell_type": "code",
      "execution_count": 1,
      "metadata": {
        "colab": {
          "base_uri": "https://localhost:8080/"
        },
        "id": "ZiDiaoOZV3bi",
        "outputId": "253c4f63-6b81-4f6b-e832-6f8c9a262e18"
      },
      "outputs": [
        {
          "output_type": "stream",
          "name": "stdout",
          "text": [
            "['apple', 'banana', 'cherry']\n"
          ]
        }
      ],
      "source": [
        "# Example\n",
        "# Create a List:\n",
        "\n",
        "thislist = [\"apple\", \"banana\", \"cherry\"]\n",
        "print(thislist)"
      ]
    },
    {
      "cell_type": "markdown",
      "source": [
        "List Items List items are ordered, changeable, and allow duplicate values.\n",
        "\n",
        "List items are indexed, the first item has index [0], the second item has index [1] etc.\n",
        "\n",
        "Ordered When we say that lists are ordered, it means that the items have a defined order, and that order will not change.\n",
        "\n",
        "If you add new items to a list, the new items will be placed at the end of the list.\n",
        "\n",
        "Allow Duplicates Since lists are indexed, lists can have items with the same value:"
      ],
      "metadata": {
        "id": "tJL1XOCfWr9j"
      }
    },
    {
      "cell_type": "code",
      "source": [
        "# Example\n",
        "# Lists allow duplicate values:\n",
        "\n",
        "thislist = [\"apple\", \"banana\", \"cherry\", \"apple\", \"cherry\"]\n",
        "print(thislist)"
      ],
      "metadata": {
        "colab": {
          "base_uri": "https://localhost:8080/"
        },
        "id": "8qFivecmWuah",
        "outputId": "808e70e9-5a54-449b-a2de-052e705c9039"
      },
      "execution_count": 2,
      "outputs": [
        {
          "output_type": "stream",
          "name": "stdout",
          "text": [
            "['apple', 'banana', 'cherry', 'apple', 'cherry']\n"
          ]
        }
      ]
    },
    {
      "cell_type": "markdown",
      "source": [
        "**List Length To determine how many items a list has, use the len() function:**"
      ],
      "metadata": {
        "id": "b6fJEm2MW0Fh"
      }
    },
    {
      "cell_type": "code",
      "source": [
        "# Example\n",
        "# Print the number of items in the list:\n",
        "\n",
        "thislist = [\"apple\", \"banana\", \"cherry\"]\n",
        "print(len(thislist))"
      ],
      "metadata": {
        "colab": {
          "base_uri": "https://localhost:8080/"
        },
        "id": "6JjhCuadW8u4",
        "outputId": "86306a9e-b37d-48ef-b3f6-cfc6cfc66144"
      },
      "execution_count": 3,
      "outputs": [
        {
          "output_type": "stream",
          "name": "stdout",
          "text": [
            "3\n"
          ]
        }
      ]
    },
    {
      "cell_type": "markdown",
      "source": [
        "List Items - Data Types List items can be of any data type:\n",
        "\n",
        "Example String, int and boolean data types:"
      ],
      "metadata": {
        "id": "P_V4t1eEXBkw"
      }
    },
    {
      "cell_type": "code",
      "source": [
        "list1 = [\"apple\", \"banana\", \"cherry\"]\n",
        "list2 = [1, 5, 7, 9, 3]\n",
        "list3 = [True, False, False]"
      ],
      "metadata": {
        "id": "qX1yTnRfXFUZ"
      },
      "execution_count": 4,
      "outputs": []
    },
    {
      "cell_type": "markdown",
      "source": [
        "A list can contain different data types:\n",
        "\n",
        "Example A list with strings, integers and boolean values:\n",
        "\n",
        "list1 = [\"abc\", 34, True, 40, \"male\"]\n",
        "\n"
      ],
      "metadata": {
        "id": "vfTzSjcDXeYi"
      }
    },
    {
      "cell_type": "code",
      "source": [
        "#Example\n",
        "#A list with strings, integers and boolean values:\n",
        "\n",
        "list1 = [\"abc\", 34, True, 40, \"male\"]"
      ],
      "metadata": {
        "id": "Etx43tvpXjsh"
      },
      "execution_count": 5,
      "outputs": []
    },
    {
      "cell_type": "markdown",
      "source": [
        "type() From Python's perspective, lists are defined as objects with the data type 'list':\n",
        "\n",
        "<class 'list'>"
      ],
      "metadata": {
        "id": "nlAcZ-n3Xq_4"
      }
    },
    {
      "cell_type": "code",
      "source": [
        "# Example\n",
        "# What is the data type of a list?\n",
        "\n",
        "mylist = [\"apple\", \"banana\", \"cherry\"]\n",
        "print(type(mylist))"
      ],
      "metadata": {
        "colab": {
          "base_uri": "https://localhost:8080/"
        },
        "id": "EWrEolI1Xxen",
        "outputId": "ccfab3a4-28b3-42a4-95eb-1c8c5e8a6be4"
      },
      "execution_count": 6,
      "outputs": [
        {
          "output_type": "stream",
          "name": "stdout",
          "text": [
            "<class 'list'>\n"
          ]
        }
      ]
    },
    {
      "cell_type": "markdown",
      "source": [
        "**The list() Constructor** It is also possible to use the list() constructor when creating a new list.\n",
        "\n",
        "Example Using the list() constructor to make a List:"
      ],
      "metadata": {
        "id": "6NskYkqzX5Cg"
      }
    },
    {
      "cell_type": "code",
      "source": [
        "thislist = list((\"apple\", \"banana\", \"cherry\")) # note the double round-brackets\n",
        "print(thislist)"
      ],
      "metadata": {
        "colab": {
          "base_uri": "https://localhost:8080/"
        },
        "id": "OJAGM_nRX-3w",
        "outputId": "d46dc196-8a27-42fd-864f-0ad8db714133"
      },
      "execution_count": 7,
      "outputs": [
        {
          "output_type": "stream",
          "name": "stdout",
          "text": [
            "['apple', 'banana', 'cherry']\n"
          ]
        }
      ]
    },
    {
      "cell_type": "markdown",
      "source": [
        "# **Indexing**\n",
        "\n",
        "Indexing starts from 0(zero). Very much similar to what we have learnt in our previous class"
      ],
      "metadata": {
        "id": "_LqKk3CzYGAh"
      }
    },
    {
      "cell_type": "code",
      "source": [
        "# to get the first element\n",
        "list1 = [1,2,3,4,5,6,7,8,9]\n",
        "list1[0]"
      ],
      "metadata": {
        "colab": {
          "base_uri": "https://localhost:8080/"
        },
        "id": "QOzCXUwaYQHA",
        "outputId": "f86bdadb-3416-4301-bbf0-6b8c26bddc98"
      },
      "execution_count": 11,
      "outputs": [
        {
          "output_type": "execute_result",
          "data": {
            "text/plain": [
              "1"
            ]
          },
          "metadata": {},
          "execution_count": 11
        }
      ]
    },
    {
      "cell_type": "markdown",
      "source": [
        "# **Slicing**"
      ],
      "metadata": {
        "id": "1AI2QckvYXuA"
      }
    },
    {
      "cell_type": "code",
      "source": [
        "# [start:stop:step]\n",
        "\n",
        "# start = starting position (default value is 0)\n",
        "# stop = end position(exclusive) (default value is end position)\n",
        "# step = step size or increment size (default value is 1)\n",
        "# to get first 5 elements \n",
        "list1[:6]"
      ],
      "metadata": {
        "colab": {
          "base_uri": "https://localhost:8080/"
        },
        "id": "qRLvcE8-YcpR",
        "outputId": "03143d09-8e82-44c6-acfb-0b01b2849fcf"
      },
      "execution_count": 14,
      "outputs": [
        {
          "output_type": "execute_result",
          "data": {
            "text/plain": [
              "[1, 2, 3, 4, 5, 6]"
            ]
          },
          "metadata": {},
          "execution_count": 14
        }
      ]
    },
    {
      "cell_type": "markdown",
      "source": [
        "# **mutable**"
      ],
      "metadata": {
        "id": "q4qykd5WZB2j"
      }
    },
    {
      "cell_type": "code",
      "source": [
        "# to change the first value\n",
        "list1[0] = 100\n",
        "list1"
      ],
      "metadata": {
        "colab": {
          "base_uri": "https://localhost:8080/"
        },
        "id": "UWGWFRMVZEaW",
        "outputId": "4ef2bf6e-eee6-4bc1-801b-78055e64cd99"
      },
      "execution_count": 15,
      "outputs": [
        {
          "output_type": "execute_result",
          "data": {
            "text/plain": [
              "[100, 2, 3, 4, 5, 6, 7, 8, 9]"
            ]
          },
          "metadata": {},
          "execution_count": 15
        }
      ]
    },
    {
      "cell_type": "code",
      "source": [
        "# similarly you can change any values based on index position\n",
        "list1[2] = 300\n",
        "list1"
      ],
      "metadata": {
        "colab": {
          "base_uri": "https://localhost:8080/"
        },
        "id": "D_aIxyDYZOQ7",
        "outputId": "91e43049-1415-40fb-c461-644c6ecd93a4"
      },
      "execution_count": 16,
      "outputs": [
        {
          "output_type": "execute_result",
          "data": {
            "text/plain": [
              "[100, 2, 300, 4, 5, 6, 7, 8, 9]"
            ]
          },
          "metadata": {},
          "execution_count": 16
        }
      ]
    },
    {
      "cell_type": "markdown",
      "source": [
        "# **some inbuilt methods**"
      ],
      "metadata": {
        "id": "Pl3dVqKVZTHi"
      }
    },
    {
      "cell_type": "code",
      "source": [
        "# my_list\n",
        "my_list = [1,2,3,True]\n",
        "print(my_list)"
      ],
      "metadata": {
        "colab": {
          "base_uri": "https://localhost:8080/"
        },
        "id": "gsFngoWxZaJv",
        "outputId": "d2b46975-be14-4fdd-a982-5dbbe803dded"
      },
      "execution_count": 18,
      "outputs": [
        {
          "output_type": "stream",
          "name": "stdout",
          "text": [
            "[1, 2, 3, True]\n"
          ]
        }
      ]
    },
    {
      "cell_type": "markdown",
      "source": [
        "**1) .append(val)**\n",
        "\n",
        "appends the value at the end of the list"
      ],
      "metadata": {
        "id": "jycs2vdHZnOi"
      }
    },
    {
      "cell_type": "code",
      "source": [
        "my_list.append(\"Python\")\n",
        "print(my_list)"
      ],
      "metadata": {
        "colab": {
          "base_uri": "https://localhost:8080/"
        },
        "id": "zJouZFX7ZoCh",
        "outputId": "38098a15-0bf7-4cda-a72a-92f00ff9ba8e"
      },
      "execution_count": 19,
      "outputs": [
        {
          "output_type": "stream",
          "name": "stdout",
          "text": [
            "[1, 2, 3, True, 'Python']\n"
          ]
        }
      ]
    },
    {
      "cell_type": "code",
      "source": [
        "my_list.append(\"ML\")\n",
        "print(my_list)"
      ],
      "metadata": {
        "colab": {
          "base_uri": "https://localhost:8080/"
        },
        "id": "LZYA3jbLZ4Ae",
        "outputId": "caafa234-f661-4757-d8cf-bbbb42374af3"
      },
      "execution_count": 20,
      "outputs": [
        {
          "output_type": "stream",
          "name": "stdout",
          "text": [
            "[1, 2, 3, True, 'Python', 'ML']\n"
          ]
        }
      ]
    },
    {
      "cell_type": "markdown",
      "source": [
        "**2) insert(pos,element)**\n",
        "\n",
        "inserts the element at the specified index"
      ],
      "metadata": {
        "id": "7wDcuo0YaJVi"
      }
    },
    {
      "cell_type": "code",
      "source": [
        "# to insert value 4 after 3\n",
        "my_list.insert(3,4)\n",
        "print(my_list)"
      ],
      "metadata": {
        "colab": {
          "base_uri": "https://localhost:8080/"
        },
        "id": "vJG34VMlaRtc",
        "outputId": "a27fa4b1-e737-4bc8-cef4-e7ef98e774f4"
      },
      "execution_count": 22,
      "outputs": [
        {
          "output_type": "stream",
          "name": "stdout",
          "text": [
            "[1, 2, 3, 4, 4, True, 'Python', 'ML']\n"
          ]
        }
      ]
    },
    {
      "cell_type": "markdown",
      "source": [
        "**copying the lists**\n",
        "\n",
        "1) my_list_copy = my_list\n",
        "\n",
        "2) my_list_copy = my_list.copy()"
      ],
      "metadata": {
        "id": "zNh4IvP0aZqH"
      }
    },
    {
      "cell_type": "code",
      "source": [
        "print(my_list)"
      ],
      "metadata": {
        "colab": {
          "base_uri": "https://localhost:8080/"
        },
        "id": "qZKPyDbCahlm",
        "outputId": "ad113804-a0b2-45db-c540-7b377c4512f6"
      },
      "execution_count": 23,
      "outputs": [
        {
          "output_type": "stream",
          "name": "stdout",
          "text": [
            "[1, 2, 3, 4, 4, True, 'Python', 'ML']\n"
          ]
        }
      ]
    },
    {
      "cell_type": "code",
      "source": [
        "my_list_copy = my_list\n",
        "print(my_list_copy)"
      ],
      "metadata": {
        "colab": {
          "base_uri": "https://localhost:8080/"
        },
        "id": "pEyaZJtJapt-",
        "outputId": "ba2dcc2a-762f-4089-a56c-21f2cf96cb9b"
      },
      "execution_count": 25,
      "outputs": [
        {
          "output_type": "stream",
          "name": "stdout",
          "text": [
            "[1, 2, 3, 4, 4, True, 'Python', 'ML']\n"
          ]
        }
      ]
    },
    {
      "cell_type": "code",
      "source": [
        "my_list_copy = my_list.copy()\n",
        "print(my_list)\n",
        "print(my_list_copy)"
      ],
      "metadata": {
        "colab": {
          "base_uri": "https://localhost:8080/"
        },
        "id": "ISj8bKERbAhB",
        "outputId": "9d938a7a-7e81-42a9-806f-27cea946e2dd"
      },
      "execution_count": 26,
      "outputs": [
        {
          "output_type": "stream",
          "name": "stdout",
          "text": [
            "[1, 2, 3, 4, 4, True, 'Python', 'ML']\n",
            "[1, 2, 3, 4, 4, True, 'Python', 'ML']\n"
          ]
        }
      ]
    },
    {
      "cell_type": "markdown",
      "source": [
        "**.pop(index)**\n",
        "\n",
        "removes the element from specified index and returns the element."
      ],
      "metadata": {
        "id": "yV8sMdSIbMRL"
      }
    },
    {
      "cell_type": "code",
      "source": [
        "list1 = [1,2,3,4,5,6,7,8,9]\n",
        "rem = list1.pop(2)\n",
        "print(rem)\n",
        "print(list1)"
      ],
      "metadata": {
        "colab": {
          "base_uri": "https://localhost:8080/"
        },
        "id": "_dm7RqnubQeg",
        "outputId": "a52edcc8-844f-4192-a43c-9faa6047e9f9"
      },
      "execution_count": 28,
      "outputs": [
        {
          "output_type": "stream",
          "name": "stdout",
          "text": [
            "3\n",
            "[1, 2, 4, 5, 6, 7, 8, 9]\n"
          ]
        }
      ]
    }
  ]
}