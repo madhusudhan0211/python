{
  "nbformat": 4,
  "nbformat_minor": 0,
  "metadata": {
    "colab": {
      "name": "variables and basic.ipynb",
      "provenance": [],
      "collapsed_sections": [],
      "authorship_tag": "ABX9TyNxIRLdwSQ3VxFP2DeHLRDb",
      "include_colab_link": true
    },
    "kernelspec": {
      "name": "python3",
      "display_name": "Python 3"
    },
    "language_info": {
      "name": "python"
    }
  },
  "cells": [
    {
      "cell_type": "markdown",
      "metadata": {
        "id": "view-in-github",
        "colab_type": "text"
      },
      "source": [
        "<a href=\"https://colab.research.google.com/github/madhusudhan0211/python/blob/main/variables_and_basic.ipynb\" target=\"_parent\"><img src=\"https://colab.research.google.com/assets/colab-badge.svg\" alt=\"Open In Colab\"/></a>"
      ]
    },
    {
      "cell_type": "markdown",
      "source": [
        "# **Python Variables:**\n",
        "\n",
        "Variables are containers for storing data values.\n",
        "\n",
        "variables are created when you assign a value to it:\n",
        "\n",
        "Python has no command for declaring a variable.\n",
        "\n",
        "\n",
        "**Build-in Data Types:-**\n",
        "\n",
        "Variables can store data of different types, and different types can do different things.\n",
        "\n",
        "Python has the following data types built-in by default, in these categories:\n",
        "\n",
        "Text Type:\tstr\n",
        "\n",
        "Numeric Types:\tint, float\n",
        "\n",
        "Sequence Types:\tlist, tuple\n",
        "\n",
        "Mapping Type:\tdict\n",
        "\n",
        "Set Types:\tset\n",
        "\n",
        "Boolean Type:\tbool\n",
        "\n",
        "Binary Types:\tbytes\n",
        "\n",
        "\n",
        "\n",
        "# **Python Numbers\u000b:**\n",
        "\n",
        "There are three numeric types in Python:\n",
        "\n",
        "\u000bint\n",
        "\n",
        "float\n",
        "\n",
        "complex\n",
        "\n",
        "Variables of numeric types are created when you assign a value to them.\n",
        "\n",
        "**Variable Names:**\n",
        "\n",
        "Variables are containers for storing data values.\n",
        "\n",
        "\u000bCreating Variables\n",
        "\n",
        "Python has no command for declaring a variable.\n",
        "A variable is created the moment you first assign a value to it.\n",
        "A variable can have a short name (like x and y) or a more descriptive name (age, carname, total_volume). \n",
        "\n",
        "**Rules for Python variables:** \n",
        "\n",
        "A variable name must start with a letter or the underscore character\n",
        "\n",
        "A variable name cannot start with a number\n",
        "\n",
        "A variable name can only contain alpha-numeric characters and underscores (A-z, 0-9, and _ )\n",
        "\n",
        "Variable names are case-sensitive (age, Age and AGE are three different variables) \n"
      ],
      "metadata": {
        "id": "WAam_nzNJH_g"
      }
    },
    {
      "cell_type": "markdown",
      "source": [
        "Variables do not need to be declared with any particular type, and can even change type after they have been set.\n",
        "\n",
        "# **Type Casting**\n",
        "\n",
        "If you want to specify the data type of a variable, this can be done with casting."
      ],
      "metadata": {
        "id": "IwrMt1TdKG0Q"
      }
    },
    {
      "cell_type": "code",
      "source": [
        "#3\n",
        "x = str(3)\n",
        "y = int(3)\n",
        "z = float(3)\n",
        "\n",
        "print(x)\n",
        "print(y)\n",
        "print(z)\n",
        "print(type(x))\n",
        "print(type(y))\n",
        "print(type(z))"
      ],
      "metadata": {
        "colab": {
          "base_uri": "https://localhost:8080/"
        },
        "id": "sDxU-pIAJv8K",
        "outputId": "8979cf7c-17e8-487d-e763-a340d03e91da"
      },
      "execution_count": 1,
      "outputs": [
        {
          "output_type": "stream",
          "name": "stdout",
          "text": [
            "3\n",
            "3\n",
            "3.0\n",
            "<class 'str'>\n",
            "<class 'int'>\n",
            "<class 'float'>\n"
          ]
        }
      ]
    },
    {
      "cell_type": "code",
      "source": [
        "x = 10\n",
        "y = \"Rohan\"\n",
        "a =  float(x)\n",
        "print(a)\n",
        "print(type(x))\n",
        "print(type(y))\n",
        "print(type(a))"
      ],
      "metadata": {
        "colab": {
          "base_uri": "https://localhost:8080/"
        },
        "id": "5eYYNKrQKUSN",
        "outputId": "2ac7c1c1-c90b-446c-80b4-974e2d354861"
      },
      "execution_count": 2,
      "outputs": [
        {
          "output_type": "stream",
          "name": "stdout",
          "text": [
            "10.0\n",
            "<class 'int'>\n",
            "<class 'str'>\n",
            "<class 'float'>\n"
          ]
        }
      ]
    },
    {
      "cell_type": "markdown",
      "source": [
        "# **Python Numbers**\n",
        "\n",
        "There are three numeric types in Python:\n",
        "\n",
        "int float complex Variables of numeric types are created when you assign a value to them:"
      ],
      "metadata": {
        "id": "u6Yqt5mLKc4F"
      }
    },
    {
      "cell_type": "code",
      "source": [
        "#Example\n",
        "#Convert from one type to another:\n",
        "\n",
        "x = 1    # int\n",
        "y = 2.8  # float\n",
        "z = 1j   # complex\n",
        "\n",
        "#Checking the type of the numbers:\n",
        "print(type(x))\n",
        "print(type(y))\n",
        "print(type(z))\n",
        "\n",
        "#convert from int to float:\n",
        "a = float(x)\n",
        "\n",
        "#convert from float to int:\n",
        "b = int(y)\n",
        "\n",
        "#convert from int to complex:\n",
        "c = complex(x)\n",
        "\n",
        "print(a)\n",
        "print(b)\n",
        "print(c)\n",
        "\n",
        "print(type(a))\n",
        "print(type(b))\n",
        "print(type(c))"
      ],
      "metadata": {
        "colab": {
          "base_uri": "https://localhost:8080/"
        },
        "id": "6KkPJNu8KgzU",
        "outputId": "05455371-8fde-4d95-cf40-cb89ba3a4abe"
      },
      "execution_count": 3,
      "outputs": [
        {
          "output_type": "stream",
          "name": "stdout",
          "text": [
            "<class 'int'>\n",
            "<class 'float'>\n",
            "<class 'complex'>\n",
            "1.0\n",
            "2\n",
            "(1+0j)\n",
            "<class 'float'>\n",
            "<class 'int'>\n",
            "<class 'complex'>\n"
          ]
        }
      ]
    },
    {
      "cell_type": "markdown",
      "source": [
        "# **Variable Names**\n",
        "\n",
        "Variables Variables are containers for storing data values.\n",
        "\n",
        "Creating Variables Python has no command for declaring a variable.\n",
        "\n",
        "A variable is created the moment you first assign a value to it. A variable can have a short name (like x and y) or a more descriptive name (age, carname, totalvolume). Rules for Python variables: A variable name must start with a letter or the underscore character A variable name cannot start with a number A variable name can only contain alpha-numeric characters and underscores (A-z, 0-9, and ) Variable names are case-sensitive (age, Age and AGE are three different variables)"
      ],
      "metadata": {
        "id": "JBHnmAIgLDGq"
      }
    },
    {
      "cell_type": "code",
      "source": [
        "Legal variable names:\n",
        "\n",
        "myvar = \"rohan\"\n",
        "my_var = \"rohan\"\n",
        "_my_var = \"rohan\"\n",
        "myVar = \"rohan\"\n",
        "MYVAR = \"rohan\"\n",
        "myvar2 = \"rohan\"\n",
        "\n",
        "Example\n",
        "Illegal variable names:\n",
        "\n",
        "2myvar = \"rohan\"\n",
        "my-var = \"rohan\"\n",
        "my var = \"rohan\""
      ],
      "metadata": {
        "id": "F_bmG9-gLaLr"
      },
      "execution_count": null,
      "outputs": []
    },
    {
      "cell_type": "code",
      "source": [
        "x = 5\n",
        "y = 'Hello world'\n",
        "\n",
        "a, b, c = \"orange\", \"Banana\", 'Mango'\n",
        "print(a)\n",
        "print(b)\n",
        "print(c)\n",
        "\n",
        "#x=y=z= 'orange'"
      ],
      "metadata": {
        "colab": {
          "base_uri": "https://localhost:8080/"
        },
        "id": "98LeAGnxLj_q",
        "outputId": "c987dce2-b58d-4e1f-e6e2-e38bf78be598"
      },
      "execution_count": 4,
      "outputs": [
        {
          "output_type": "stream",
          "name": "stdout",
          "text": [
            "orange\n",
            "Banana\n",
            "Mango\n"
          ]
        }
      ]
    },
    {
      "cell_type": "markdown",
      "source": [
        "Python Variables - Assign Multiple Values Many Values to Multiple Variables Python allows you to assign values to multiple variables in one line:\n",
        "\n",
        "# **Output Variables**\n",
        "\n",
        "The Python print statement is often used to output variables.\n",
        "\n",
        "To combine both text and a variable, Python uses the + character:"
      ],
      "metadata": {
        "id": "aOCa5dk5Lref"
      }
    },
    {
      "cell_type": "code",
      "source": [
        "# The Python print statement is often used to output variables.\n",
        "# To combine both text and a variable, Python uses the + character\n",
        "x = \"awesome\"\n",
        "print(\"Python is\" + x)\n",
        "\n",
        "#You can also use the + character to add a variable to another variable:\n",
        "x = \"Python is \"\n",
        "y = \"awesome\"\n",
        "z =  x + y\n",
        "print(z)\n",
        "#For numbers, the + character works as a mathematical operator:\n",
        "x = 5\n",
        "y = 10\n",
        "print(x + y)\n",
        "#If you try to combine a string and a number, Python will give you an error:\n",
        "#Error\n",
        "# x = 5\n",
        "# y = \"John\"\n",
        "# print(x + y)"
      ],
      "metadata": {
        "colab": {
          "base_uri": "https://localhost:8080/"
        },
        "id": "dgZ_rqk0L4XG",
        "outputId": "e33021d0-6b00-4fc7-8dac-3a78d2c269f1"
      },
      "execution_count": 5,
      "outputs": [
        {
          "output_type": "stream",
          "name": "stdout",
          "text": [
            "Python isawesome\n",
            "Python is awesome\n",
            "15\n"
          ]
        }
      ]
    },
    {
      "cell_type": "markdown",
      "source": [
        "# **Python Strings**\n",
        "# **Strings**\n",
        "\n",
        "Strings in python are surrounded by either single quotation marks, or double quotation marks.\n",
        "\n",
        "'hello' is the same as \"hello\". You can display a string literal with the print() function:"
      ],
      "metadata": {
        "id": "Yx5jsIAdL-Sn"
      }
    },
    {
      "cell_type": "code",
      "source": [
        "#Example\n",
        "print(\"Hello\")\n",
        "print('Hello')"
      ],
      "metadata": {
        "colab": {
          "base_uri": "https://localhost:8080/"
        },
        "id": "R06n17bqMPFe",
        "outputId": "f74ecd3b-baba-44de-89c8-3bdbac9dc00c"
      },
      "execution_count": 6,
      "outputs": [
        {
          "output_type": "stream",
          "name": "stdout",
          "text": [
            "Hello\n",
            "Hello\n"
          ]
        }
      ]
    },
    {
      "cell_type": "markdown",
      "source": [
        "# **Assign String to a Variable**\n",
        "\n",
        "Assigning a string to a variable is done with the variable name followed by an equal sign and the string:"
      ],
      "metadata": {
        "id": "rsszwBn0MYLw"
      }
    },
    {
      "cell_type": "code",
      "source": [
        "#Example\n",
        "a = \"Hello\"\n",
        "print(a)"
      ],
      "metadata": {
        "colab": {
          "base_uri": "https://localhost:8080/"
        },
        "id": "1JVVVFZCMcMv",
        "outputId": "9a3fbb74-a7cd-4426-d66f-f31fa85e5745"
      },
      "execution_count": 7,
      "outputs": [
        {
          "output_type": "stream",
          "name": "stdout",
          "text": [
            "Hello\n"
          ]
        }
      ]
    },
    {
      "cell_type": "markdown",
      "source": [
        "# **Multiline Strings**\n",
        "\n",
        "You can assign a multiline string to a variable by using three quotes:"
      ],
      "metadata": {
        "id": "0BCWolf3Mgq3"
      }
    },
    {
      "cell_type": "code",
      "source": [
        "# Example\n",
        "# You can use three double quotes:\n",
        "\n",
        "a = \"\"\"python is awesome,\n",
        "Python is simple.\"\"\"\n",
        "print(a)\n",
        "\n",
        "#Or three single quotes:\n",
        "#Example\n",
        "a = '''python is awesome,\n",
        "Python is simple.'''\n",
        "print(a)"
      ],
      "metadata": {
        "colab": {
          "base_uri": "https://localhost:8080/"
        },
        "id": "kvSxmXDLMsrq",
        "outputId": "72ac7922-4ace-4f1d-a7a9-dda52173f04c"
      },
      "execution_count": 8,
      "outputs": [
        {
          "output_type": "stream",
          "name": "stdout",
          "text": [
            "python is awesome,\n",
            "Python is simple.\n",
            "python is awesome,\n",
            "Python is simple.\n"
          ]
        }
      ]
    },
    {
      "cell_type": "code",
      "source": [
        "# Example\n",
        "# Get the character at position 1 (remember that the first character has the position 0):       \n",
        "a = \"Hello, World!\"\n",
        "print(a[1])"
      ],
      "metadata": {
        "colab": {
          "base_uri": "https://localhost:8080/"
        },
        "id": "PpDCjvihM_GG",
        "outputId": "ddec698a-00b7-4ddb-d21e-c65e52da40bc"
      },
      "execution_count": 9,
      "outputs": [
        {
          "output_type": "stream",
          "name": "stdout",
          "text": [
            "e\n"
          ]
        }
      ]
    },
    {
      "cell_type": "code",
      "source": [
        "# Looping Through a String\n",
        "# Since strings are arrays, we can loop through the characters in a string, with a for loop.\n",
        "\n",
        "# Example\n",
        "# Loop through the letters in the word \"banana\":\n",
        "\n",
        "for x in \"banana\":\n",
        "  print(x)"
      ],
      "metadata": {
        "colab": {
          "base_uri": "https://localhost:8080/"
        },
        "id": "7gQapO_fNE--",
        "outputId": "18410068-2a9e-4d56-b722-222821f2e967"
      },
      "execution_count": 10,
      "outputs": [
        {
          "output_type": "stream",
          "name": "stdout",
          "text": [
            "b\n",
            "a\n",
            "n\n",
            "a\n",
            "n\n",
            "a\n"
          ]
        }
      ]
    },
    {
      "cell_type": "code",
      "source": [
        "# String Length\n",
        "# To get the length of a string, use the len() function.\n",
        "# Example\n",
        "# The len() function returns the length of a string:\n",
        "\n",
        "a = \"Hello, World!\"\n",
        "print(len(a))"
      ],
      "metadata": {
        "colab": {
          "base_uri": "https://localhost:8080/"
        },
        "id": "KlARdb1sNLW9",
        "outputId": "2f5d2041-c1af-4371-a209-de0481002055"
      },
      "execution_count": 11,
      "outputs": [
        {
          "output_type": "stream",
          "name": "stdout",
          "text": [
            "13\n"
          ]
        }
      ]
    },
    {
      "cell_type": "markdown",
      "source": [
        "# **Slicing**\n",
        "You can return a range of characters by using the slice syntax.\n",
        "\n",
        "Specify the start index and the end index, separated by a colon, to return a part of the string."
      ],
      "metadata": {
        "id": "--rol9wuNcCO"
      }
    },
    {
      "cell_type": "code",
      "source": [
        "#Example\n",
        "#Get the characters from position 2 to position 5 (not included):\n",
        "b = \"Hello, World!\"\n",
        "print(b[2:5])"
      ],
      "metadata": {
        "colab": {
          "base_uri": "https://localhost:8080/"
        },
        "id": "u4AoWXYANfEJ",
        "outputId": "91feb49d-f7b6-4999-c936-993e9e4ec449"
      },
      "execution_count": 12,
      "outputs": [
        {
          "output_type": "stream",
          "name": "stdout",
          "text": [
            "llo\n"
          ]
        }
      ]
    },
    {
      "cell_type": "markdown",
      "source": [
        "# **Negative Indexing**\n",
        "Use negative indexes to start the slice from the end of the string: Example Get the characters:\n",
        "\n",
        "From: \"o\" in \"World!\" (position -5)\n",
        "\n",
        "To, but not included: \"d\" in \"World!\" (position -2):"
      ],
      "metadata": {
        "id": "-qSBwWSBNths"
      }
    },
    {
      "cell_type": "code",
      "source": [
        "b = \"Hello, World!\"\n",
        "print(b[-5:-2])\n",
        "# Get the characters from index 2 to index 4 (llo).\n",
        "txt = \"Hello World\"\n",
        "print(txt[2:4])"
      ],
      "metadata": {
        "colab": {
          "base_uri": "https://localhost:8080/"
        },
        "id": "mFnTqwCPNwr0",
        "outputId": "453f2ee2-cb87-4de0-f4d1-3a9150b0559d"
      },
      "execution_count": 13,
      "outputs": [
        {
          "output_type": "stream",
          "name": "stdout",
          "text": [
            "orl\n",
            "ll\n"
          ]
        }
      ]
    }
  ]
}